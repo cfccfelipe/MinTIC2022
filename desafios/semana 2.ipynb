{
 "cells": [
  {
   "cell_type": "markdown",
   "metadata": {},
   "source": [
    "\"\"\"\n",
    "Reto para la semana 2: Tirilla de Compra y Descuento\n",
    "\n",
    "El Centro Comercial Unaleño continúa trabajando en la creación de un carrito de compras. \n",
    "Para esto se requiere la creación de varias tareas que deben programarse en funciones detalladas a continuación:\n",
    "\n",
    "Lectura de n artículos\n",
    "\n",
    "    Se requiere leer una cantidad n de artículos que representan la compra de un cliente.\n",
    "    Un artículo por ahora lleva nombre y precio.\n",
    "    Esta función debe retornar la tirilla de compras en texto\n",
    "\n",
    "Cálculo de descuento\n",
    "\n",
    "    Dado el valor total de la compra se pretende realizar una nueva campaña titulada compra más y gasta menos\n",
    "    con los siguientes descuentos:\n",
    "        Por compras mayores a 150000 lleva un 10% de descuento.\n",
    "        Por compras mayores a 300000 lleva un 15% de descuento.\n",
    "        Por compras mayores a 700000 lleva un 20% de descuento.\n",
    "\n",
    "Dadas las dos funcionalidades anteriores ayude al centro comercial a generar una tirilla de compra\n",
    "donde se muestren los productos comprados, el valor a pagar y el descuento que se le hizo al cliente.\n",
    "\n",
    "Entrada: Diferentes datos en el siguiente orden:\n",
    "\n",
    "    La cantidad de artículos en el carrito\n",
    "    El nombre y el precio de cada artículo en una línea diferente\n",
    "\n",
    "Salida: Se debe mostrar lo siguiente:\n",
    "\n",
    "    La tirilla de compra en el formato especificado\n",
    "\n",
    "Nota: Como el centro comercial está siendo muy generoso con los descuentos, el valor a cobrar en \n",
    "caso de tener centavos se debe aproximar a techo usando la función ceil de python \n",
    "(https://www.tutorialspoint.com/python/number_ceil.htm)\n",
    "\"\"\""
   ]
  },
  {
   "cell_type": "code",
   "execution_count": 146,
   "metadata": {},
   "outputs": [],
   "source": [
    "\"\"\"Lectura de n artículos y valor a pagar\"\"\"\n",
    "\n",
    "def elementos():\n",
    "    \"\"\"Definiendo variables de entrada,\n",
    "    definiendo una lista que almacene los productos,\n",
    "    definiendo una variable que almacene el valor a pagar\"\"\"\n",
    "    n = int(input(\"¿Cúantos articulos comprarás?: \"))\n",
    "    productos = []\n",
    "    global valor_a_pagar\n",
    "    valor_a_pagar = 0\n",
    "    for i in range(n):\n",
    "        x = str(input(\"¿Cúal es nombre del artículo?: \"))\n",
    "        p = int(input(\"¿Cúal es precio del artículo?: \"))\n",
    "        producto = (x + \" $\" + str(p))\n",
    "        productos.append(producto)\n",
    "        valor_a_pagar = valor_a_pagar + p\n",
    "    elemento = 0\n",
    "    print(\"\"\"Centro Comercial Unaleño\n",
    "Compra más y Gasta Menos\n",
    "NIT: 899.999.063\"\"\")\n",
    "    for f in range(len(productos)):\n",
    "        print(productos[elemento])\n",
    "        elemento = elemento + 1"
   ]
  },
  {
   "cell_type": "code",
   "execution_count": 169,
   "metadata": {},
   "outputs": [],
   "source": [
    "def descuento():\n",
    "    import math\n",
    "    global valor_a_pagar\n",
    "    if valor_a_pagar > 150000 and valor_a_pagar <= 300000:\n",
    "        total = valor_a_pagar * 90 / 100\n",
    "    elif valor_a_pagar > 300000 and valor_a_pagar <= 700000:\n",
    "        total = valor_a_pagar * 85 / 100\n",
    "    elif valor_a_pagar > 700000:\n",
    "        total = valor_a_pagar * 80 / 100\n",
    "    else:\n",
    "        total = valor_a_pagar\n",
    "    total = math.ceil(total)\n",
    "    descuento = valor_a_pagar - total \n",
    "    print(\"Total : $\" + str(total))\n",
    "    print(\"En esta compra tu descuento fue $\" + str(descuento))\n",
    "    \n"
   ]
  },
  {
   "cell_type": "code",
   "execution_count": 170,
   "metadata": {},
   "outputs": [
    {
     "name": "stdout",
     "output_type": "stream",
     "text": [
      "¿Cúantos articulos comprarás?: 1\n",
      "¿Cúal es nombre del artículo?: a\n",
      "¿Cúal es precio del artículo?: 425599\n",
      "Centro Comercial Unaleño\n",
      "Compra más y Gasta Menos\n",
      "NIT: 899.999.063\n",
      "a $425599\n",
      "Total : $361760\n",
      "En esta compra tu descuento fue $63839\n",
      "Gracias por tu compra\n"
     ]
    }
   ],
   "source": [
    "def main():\n",
    "    elementos()\n",
    "    descuento()\n",
    "    print(\"Gracias por tu compra\")\n",
    "    \n",
    "\n",
    "main()\n"
   ]
  },
  {
   "cell_type": "code",
   "execution_count": null,
   "metadata": {},
   "outputs": [],
   "source": []
  },
  {
   "cell_type": "code",
   "execution_count": null,
   "metadata": {},
   "outputs": [],
   "source": []
  }
 ],
 "metadata": {
  "kernelspec": {
   "display_name": "Python 3",
   "language": "python",
   "name": "python3"
  },
  "language_info": {
   "codemirror_mode": {
    "name": "ipython",
    "version": 3
   },
   "file_extension": ".py",
   "mimetype": "text/x-python",
   "name": "python",
   "nbconvert_exporter": "python",
   "pygments_lexer": "ipython3",
   "version": "3.8.3"
  }
 },
 "nbformat": 4,
 "nbformat_minor": 4
}
