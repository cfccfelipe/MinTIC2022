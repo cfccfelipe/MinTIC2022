{
 "cells": [
  {
   "cell_type": "markdown",
   "metadata": {
    "id": "9hW9_fKr1m0G"
   },
   "source": [
    "# Diccionarios\n",
    "\n",
    "Así como en una lista los valores están indexados por su posición, en un diccionario los valores van a estar indexados por sus llaves. La sintaxis de un diccionario es:\n",
    "\n",
    "```nombre_dict = { key1: value1, key2: value2}```:"
   ]
  },
  {
   "cell_type": "code",
   "execution_count": null,
   "metadata": {
    "id": "pVp-NEol1m0H",
    "outputId": "b45a9fd9-e2a9-48f3-8559-fec211310487"
   },
   "outputs": [
    {
     "name": "stdout",
     "output_type": "stream",
     "text": [
      "{'edad': 40, 'genero': 'Masculino', 'nombre': 'JuanSalvador', 'apellido': 'Gaviota'}\n"
     ]
    }
   ],
   "source": [
    "datos = {\"edad\": 40, \"genero\": 'Masculino', \"nombre\": 'JuanSalvador', \"apellido\": 'Gaviota'}\n",
    "print(datos)"
   ]
  },
  {
   "cell_type": "code",
   "execution_count": null,
   "metadata": {
    "id": "CB9PEvwf1m0U",
    "outputId": "b4ec2c2b-e4e3-47c9-84cb-4e7c1c4a44f2"
   },
   "outputs": [
    {
     "name": "stdout",
     "output_type": "stream",
     "text": [
      "{22: 'SSH', 23: 'Telnet', 80: 'HTTP', 3306: 'MySQL'}\n"
     ]
    }
   ],
   "source": [
    "puertos = { 22: 'SSH', 23: 'Telnet', 80: 'HTTP', 3306: 'MySQL'}\n",
    "print(puertos)"
   ]
  },
  {
   "cell_type": "markdown",
   "metadata": {
    "id": "sMVKYCpf1m0f"
   },
   "source": [
    "Cada pareja llave valor es considerada un ítem. La llave y el valor están separados por ```:```, cada ítem está separado por comas ```,``` y los items están rodeados por llaves ```{``` ```}```. Un diccionario vacío puede crearse así: ```{}```. Las características clave de un diccionario son:\n",
    "\n",
    "- La llave de un ítem no puede ser cambiada\n",
    "- Un string, int, o float puede ser usado como llave.\n",
    "- Una tupla que no contenga listas puede ser usada como llave.\n",
    "- Las llaves son únicas.\n",
    "- Los valores pueden ser cualquier tipo de dato.\n",
    "- Los valores pueden estar repetidos.\n",
    "- Los valores pueden ser cambiados.\n",
    "- Un diccionario es una colección desordenada (el orden en el que se ingresen los datos es independiente de la forma en la que se almacenan en la estructura de datos).\n"
   ]
  },
  {
   "cell_type": "markdown",
   "metadata": {
    "id": "5dkd7hbt1m0g"
   },
   "source": [
    "## Unir diccionarios\n",
    "\n",
    "Es posible añadir las llaves de un diccionario en otro diccionario con ```update```:\n",
    "\n"
   ]
  },
  {
   "cell_type": "code",
   "execution_count": 61,
   "metadata": {
    "id": "7UnR1iUm1m0h"
   },
   "outputs": [
    {
     "name": "stdout",
     "output_type": "stream",
     "text": [
      "{22: 'SSH', 23: 'telnet', 80: 'Http', 53: 'DNS', 443: 'https'}\n"
     ]
    }
   ],
   "source": [
    "dict_ports1 = {22: \"SSH\", 23: \"telnet\", 80: \"Http\"}\n",
    "dict_ports2 = {53 :\"DNS\", 443 : \"https\"}\n",
    "dict_ports1.update(dict_ports2)\n",
    "print(dict_ports1)"
   ]
  },
  {
   "cell_type": "markdown",
   "metadata": {
    "id": "MaHpGzHv1m0m"
   },
   "source": [
    "## Comparar\n",
    "\n",
    "Se usa los operadores convencionales `==`y `!=` para comparar diccionarios. Se mira si los diccionarios tienen los mismos ítems. Para el programa "
   ]
  },
  {
   "cell_type": "code",
   "execution_count": null,
   "metadata": {
    "id": "NFSFiINl1m0n",
    "outputId": "52211f86-e69e-4fdb-d649-dcc402ed1bd1"
   },
   "outputs": [
    {
     "name": "stdout",
     "output_type": "stream",
     "text": [
      "True\n",
      "True\n",
      "False\n"
     ]
    }
   ],
   "source": [
    "a = {123:'Rojas', 87:'Rosas'} == {87:'Rosas', 123:\"Rojas\"}\n",
    "print(a)\n",
    "print({'Rosas':123} != {'rosas':123} )\n",
    "b =  {123:'Rosas', 87:'rojas'} == {'Rosas':123, 87:'rojas'}\n",
    "print(b)"
   ]
  },
  {
   "cell_type": "markdown",
   "metadata": {
    "id": "KWeG0rwu1m0t"
   },
   "source": [
    "## Comparar (is)\n",
    "\n",
    "Se puede usar el operador `is` para determinar si dos diccionarios son elmismo (referencian al mismo objeto). "
   ]
  },
  {
   "cell_type": "code",
   "execution_count": null,
   "metadata": {
    "id": "thXOeG241m0u",
    "outputId": "c0920ae5-07d9-4844-c409-d8ddaa62c55b"
   },
   "outputs": [
    {
     "name": "stdout",
     "output_type": "stream",
     "text": [
      "True\n",
      "False\n",
      "True\n",
      "True\n"
     ]
    }
   ],
   "source": [
    "a = {123:'Rojas', 87:'rosas'}\n",
    "b = {87:'rosas', 123:'Rojas'}\n",
    "c = a\n",
    "print( a == b )\n",
    "print( a is b )\n",
    "print( a == c )\n",
    "print( a is c )"
   ]
  },
  {
   "cell_type": "markdown",
   "metadata": {
    "id": "bbDmUWzS1m00"
   },
   "source": [
    "## Accediendo a  a un valor\n",
    "\n",
    "Para acceder a un valor en un diccionario es necesario tener la llave."
   ]
  },
  {
   "cell_type": "code",
   "execution_count": null,
   "metadata": {
    "id": "W0lqGmu41m01"
   },
   "outputs": [],
   "source": [
    "puertos = { 22: 'SSH', 23: 'Telnet', 80: 'HTTP', 3306: 'MySQL'}"
   ]
  },
  {
   "cell_type": "markdown",
   "metadata": {
    "id": "N_qnZy331m04"
   },
   "source": [
    "Para obtener el nombre del protocolo correspondiente al puerto 22 se puede hacer lo siguiente:"
   ]
  },
  {
   "cell_type": "code",
   "execution_count": null,
   "metadata": {
    "id": "f0XD8sCU1m05",
    "outputId": "381c13d4-5df3-47b3-bd3a-9603f7f32b3d"
   },
   "outputs": [
    {
     "name": "stdout",
     "output_type": "stream",
     "text": [
      "SSH\n"
     ]
    }
   ],
   "source": [
    "protocol = puertos[22]\n",
    "print(protocol)"
   ]
  },
  {
   "cell_type": "code",
   "execution_count": null,
   "metadata": {
    "id": "yS13M4Rl1m0-",
    "outputId": "329eabf6-cfc2-43f7-d38a-77275db097ab"
   },
   "outputs": [
    {
     "data": {
      "text/plain": [
       "'MySQL'"
      ]
     },
     "execution_count": 4,
     "metadata": {
      "tags": []
     },
     "output_type": "execute_result"
    }
   ],
   "source": [
    "puertos[3306]"
   ]
  },
  {
   "cell_type": "markdown",
   "metadata": {
    "id": "GehxfooA1m1C"
   },
   "source": [
    "Si la llave no está se produce un ```KeyError```:"
   ]
  },
  {
   "cell_type": "code",
   "execution_count": null,
   "metadata": {
    "id": "UIQjZq3y1m1D",
    "outputId": "0e2ee534-daaf-4c22-f566-570e37874a38"
   },
   "outputs": [
    {
     "ename": "KeyError",
     "evalue": "443",
     "output_type": "error",
     "traceback": [
      "\u001b[1;31m---------------------------------------------------------------------------\u001b[0m",
      "\u001b[1;31mKeyError\u001b[0m                                  Traceback (most recent call last)",
      "\u001b[1;32m<ipython-input-5-b7ffcde03a52>\u001b[0m in \u001b[0;36m<module>\u001b[1;34m\u001b[0m\n\u001b[1;32m----> 1\u001b[1;33m \u001b[0mpuertos\u001b[0m\u001b[1;33m[\u001b[0m\u001b[1;36m443\u001b[0m\u001b[1;33m]\u001b[0m\u001b[1;33m\u001b[0m\u001b[1;33m\u001b[0m\u001b[0m\n\u001b[0m",
      "\u001b[1;31mKeyError\u001b[0m: 443"
     ]
    }
   ],
   "source": [
    "puertos[443]"
   ]
  },
  {
   "cell_type": "markdown",
   "metadata": {
    "id": "XyR8KUBC1m1I"
   },
   "source": [
    "## Actualización de valores en un diccionario\n",
    "\n",
    "Para actualizar valores en un diccionario basta con realizar la siguiente asignación:\n",
    "\n",
    "```dict[key] = new_val```\n"
   ]
  },
  {
   "cell_type": "code",
   "execution_count": null,
   "metadata": {
    "id": "mc7PCSiE1m1I"
   },
   "outputs": [],
   "source": [
    "puertos = {80: \"HTTP\", 23 : \"SMTP\", 443 : \"HTTPS\"}\n",
    "print(puertos)\n",
    "puertos[23] = 'Telnet'\n",
    "print(puertos)"
   ]
  },
  {
   "cell_type": "markdown",
   "metadata": {
    "id": "JUBt4t0t1m1N"
   },
   "source": [
    "Para añadir un valor se realiza la asignación:\n",
    "\n",
    "```dict[new_key] = new_val```"
   ]
  },
  {
   "cell_type": "code",
   "execution_count": null,
   "metadata": {
    "id": "b7fK94O41m1P"
   },
   "outputs": [],
   "source": [
    "puertos = {80: \"HTTP\", 23 : \"SMTP\", 443 : \"HTTPS\"}\n",
    "print(puertos)\n",
    "puertos[110] = 'POP'\n",
    "print(puertos)"
   ]
  },
  {
   "cell_type": "markdown",
   "metadata": {
    "id": "SGIjYeh51m1V"
   },
   "source": [
    "## Eliminación de ítems"
   ]
  },
  {
   "cell_type": "markdown",
   "metadata": {
    "id": "thxgTxDj1m1W"
   },
   "source": [
    "Con ```del``` es posible eliminar el diccionario entero o los ítems de un diccionario. Si se desea eliminar un ítem se puede utilizar la siguiente sintaxis:\n",
    "\n",
    "```del dict[key]```"
   ]
  },
  {
   "cell_type": "code",
   "execution_count": null,
   "metadata": {
    "id": "1JJvPkyj1m1W"
   },
   "outputs": [],
   "source": [
    "puertos = { 22: 'SSH', 23: 'Telnet', 80: 'HTTP', 3306: 'MySQL'}\n",
    "print(puertos)\n",
    "del puertos[23]\n",
    "print(puertos)"
   ]
  },
  {
   "cell_type": "markdown",
   "metadata": {
    "id": "V1A-ZYJQ1m1b"
   },
   "source": [
    "## Consultando un diccionario \n",
    "\n",
    "Para validar la existencia de la llave en un diccionario se puede utilizar el operador ```in```"
   ]
  },
  {
   "cell_type": "code",
   "execution_count": null,
   "metadata": {
    "id": "FynMg-iV1m1c"
   },
   "outputs": [],
   "source": [
    "print(80 in d_port)\n",
    "print(222 in d_port)"
   ]
  },
  {
   "cell_type": "markdown",
   "metadata": {
    "id": "b7btPGIA1m1g"
   },
   "source": [
    "## Iterando un diccionario\n",
    "\n",
    "Es posible usae el ciclo for y el método items() para obtener los items deun diccionario. "
   ]
  },
  {
   "cell_type": "code",
   "execution_count": null,
   "metadata": {
    "id": "_lMBZnQe1m1h",
    "outputId": "35d0dff1-edf3-4294-c6c3-11b6f8b8150f"
   },
   "outputs": [
    {
     "name": "stdout",
     "output_type": "stream",
     "text": [
      "22 -> SSH\n",
      "23 -> telnet\n",
      "80 -> Http\n"
     ]
    }
   ],
   "source": [
    "dict_ports = {22: \"SSH\", 23: \"telnet\", 80: \"Http\"}\n",
    "for k,v in dict_ports.items():\n",
    "    print(k,'->',v)"
   ]
  },
  {
   "cell_type": "markdown",
   "metadata": {
    "id": "IYeTLOnD1m1l"
   },
   "source": [
    "Es posible iterar un diccionario usando el ciclo for para obtener las claves."
   ]
  },
  {
   "cell_type": "code",
   "execution_count": null,
   "metadata": {
    "id": "gVjxL3A-1m1m",
    "outputId": "5292afac-c7d7-4a52-f27b-450928d1b319"
   },
   "outputs": [
    {
     "name": "stdout",
     "output_type": "stream",
     "text": [
      "22\n",
      "23\n",
      "80\n"
     ]
    }
   ],
   "source": [
    "dict_ports = {22: \"SSH\", 23: \"telnet\", 80: \"Http\"}\n",
    "for key in dict_ports:\n",
    "    print(key)"
   ]
  },
  {
   "cell_type": "markdown",
   "metadata": {
    "id": "Mvu9t06H1m1p"
   },
   "source": [
    "## Longitud (len)\n",
    "\n",
    "Determina el número de ítems en un diccionario. "
   ]
  },
  {
   "cell_type": "markdown",
   "metadata": {
    "id": "aLjWeveJ1m1r"
   },
   "source": [
    "Obtener la cantidad de ítems:"
   ]
  },
  {
   "cell_type": "code",
   "execution_count": null,
   "metadata": {
    "id": "NHRetBse1m1s",
    "outputId": "c50a9058-93be-48c0-9b79-565c451b6a23"
   },
   "outputs": [
    {
     "data": {
      "text/plain": [
       "3"
      ]
     },
     "execution_count": 15,
     "metadata": {
      "tags": []
     },
     "output_type": "execute_result"
    }
   ],
   "source": [
    "puertos = {80: \"HTTP\", 23 : \"SMTP\", 443 : \"HTTPS\"}\n",
    "len(puertos)"
   ]
  },
  {
   "cell_type": "markdown",
   "metadata": {
    "id": "Av82k-tD1m1v"
   },
   "source": [
    "## Obteniendo valores\n",
    "\n",
    "Para obtener el valor correspondiente a una llave también se puede utilizar ```get```. \n",
    "\n",
    "```dict.get(key, default=None)```"
   ]
  },
  {
   "cell_type": "code",
   "execution_count": null,
   "metadata": {
    "id": "SrNmTgNc1m1v"
   },
   "outputs": [],
   "source": [
    "dict1 = {'a':1, 'b':2, 'c':3}\n",
    "dict1.get('a')"
   ]
  },
  {
   "cell_type": "code",
   "execution_count": null,
   "metadata": {
    "id": "ShgkayGo1m1z"
   },
   "outputs": [],
   "source": [
    "dict1.get('d', 'llave no encontrada.')"
   ]
  },
  {
   "cell_type": "markdown",
   "metadata": {
    "id": "BSdZd6Rf1m11"
   },
   "source": [
    "Transformar diccionario en string:"
   ]
  },
  {
   "cell_type": "code",
   "execution_count": null,
   "metadata": {
    "id": "2GF8KUhi1m12"
   },
   "outputs": [],
   "source": [
    "str(puertos)"
   ]
  },
  {
   "cell_type": "markdown",
   "metadata": {
    "id": "tTF2B1ev1m15"
   },
   "source": [
    "## Máximo y mínimo\n",
    "\n",
    "Obtener la llave con el valor máximo ó mínimo:\n"
   ]
  },
  {
   "cell_type": "code",
   "execution_count": null,
   "metadata": {
    "id": "jrG22MuA1m16",
    "outputId": "a646d67c-4c72-45a2-b97e-52ec03c884fc"
   },
   "outputs": [
    {
     "data": {
      "text/plain": [
       "443"
      ]
     },
     "execution_count": 16,
     "metadata": {
      "tags": []
     },
     "output_type": "execute_result"
    }
   ],
   "source": [
    "puertos = {80: \"HTTP\", 23 : \"SMTP\", 443 : \"HTTPS\"}\n",
    "max(puertos)"
   ]
  },
  {
   "cell_type": "code",
   "execution_count": null,
   "metadata": {
    "id": "Jdh8rzNR1m1-",
    "outputId": "6c04ef9a-017a-4ec8-bab8-9e9619f21ce2"
   },
   "outputs": [
    {
     "data": {
      "text/plain": [
       "23"
      ]
     },
     "execution_count": 17,
     "metadata": {
      "tags": []
     },
     "output_type": "execute_result"
    }
   ],
   "source": [
    "min(puertos)"
   ]
  },
  {
   "cell_type": "markdown",
   "metadata": {
    "id": "Y7EiAqCt1m2D"
   },
   "source": [
    "## Obtener una lista de llaves\n",
    "\n",
    "Para obtener una lista de las llaves se puede hacer lo siguiente:"
   ]
  },
  {
   "cell_type": "code",
   "execution_count": 16,
   "metadata": {
    "id": "y91_HCDd1m2F"
   },
   "outputs": [
    {
     "name": "stdout",
     "output_type": "stream",
     "text": [
      "['a', 'b', 'c']\n"
     ]
    }
   ],
   "source": [
    "dict1 = {'a':1, 'b':2, 'c':3}\n",
    "print(list(dict1.keys()))"
   ]
  },
  {
   "cell_type": "markdown",
   "metadata": {
    "id": "hLNUny4u1m2I"
   },
   "source": [
    "## Obtener una lista de valores\n",
    "\n",
    "Para obtener una lista de los valores:"
   ]
  },
  {
   "cell_type": "code",
   "execution_count": 44,
   "metadata": {
    "id": "rrBwftqg1m2I"
   },
   "outputs": [
    {
     "name": "stdout",
     "output_type": "stream",
     "text": [
      "[1, 2, 3]\n"
     ]
    }
   ],
   "source": [
    "dict1 = {'a':1, 'b':2, 'c':3}\n",
    "print(list(dict1.values()))"
   ]
  },
  {
   "cell_type": "markdown",
   "metadata": {
    "id": "gO15Xv2n1m2L"
   },
   "source": [
    "## Conversion de listas de listas y listas de tuplas a diccionario\n",
    "\n",
    "Es posible convertir una lista de listas o una lista de tuplas en un diccionario usando ```dict```."
   ]
  },
  {
   "cell_type": "code",
   "execution_count": null,
   "metadata": {
    "id": "yTFi0Np-1m2L"
   },
   "outputs": [],
   "source": [
    "puertos = [[80,\"http\"],[20,\"ftp\"],[23,\"telnet\"],[443,\"https\"],[53,\"DNS\"]]\n",
    "d_port = dict(puertos)\n",
    "print(d_port)"
   ]
  },
  {
   "cell_type": "code",
   "execution_count": null,
   "metadata": {
    "id": "owxBF4yR1m2P"
   },
   "outputs": [],
   "source": [
    "puertos = [(80,\"http\"),(20,\"ftp\"),(23,\"telnet\"),(443,\"https\"),(53,\"DNS\")]\n",
    "d_port = dict(puertos)\n",
    "print(d_port)"
   ]
  },
  {
   "cell_type": "markdown",
   "metadata": {
    "id": "RK0LjJ6f1m2T"
   },
   "source": [
    "## Eliminar entradas de un diccionario\n",
    "\n",
    "Para eliminar todas las entradas de un diccionario se utiliza ```clear()```:"
   ]
  },
  {
   "cell_type": "code",
   "execution_count": 2,
   "metadata": {
    "id": "SpufmpNI1m2U"
   },
   "outputs": [
    {
     "name": "stdout",
     "output_type": "stream",
     "text": [
      "{22: 'SSH', 23: 'telnet', 80: 'Http'}\n",
      "{}\n"
     ]
    }
   ],
   "source": [
    "dict_ports = {22: \"SSH\", 23: \"telnet\", 80: \"Http\"}\n",
    "print(dict_ports)\n",
    "dict_ports.clear()\n",
    "print(dict_ports)"
   ]
  },
  {
   "cell_type": "markdown",
   "metadata": {
    "id": "bgAVRGuX1m2W"
   },
   "source": [
    "## Copiando un diccionario\n",
    "\n",
    "Para obtener la copia de un diccionario se puede utilzar ```dict.copy()```"
   ]
  },
  {
   "cell_type": "code",
   "execution_count": null,
   "metadata": {
    "id": "t84lQroz1m2X"
   },
   "outputs": [],
   "source": [
    "port = {80: \"HTTP\", 23 : \"SMTP\", 443 : \"HTTPS\"}\n",
    "copy_port = port.copy()\n",
    "false_copy = port"
   ]
  },
  {
   "cell_type": "code",
   "execution_count": null,
   "metadata": {
    "id": "4nQghWBK1m2a"
   },
   "outputs": [],
   "source": [
    "false_copy is port"
   ]
  },
  {
   "cell_type": "code",
   "execution_count": null,
   "metadata": {
    "id": "KhKy8BpM1m2c"
   },
   "outputs": [],
   "source": [
    "copy_port is port"
   ]
  },
  {
   "cell_type": "code",
   "execution_count": null,
   "metadata": {
    "id": "ebdBsM191m2f"
   },
   "outputs": [],
   "source": [
    "print(copy_port)"
   ]
  },
  {
   "cell_type": "markdown",
   "metadata": {
    "id": "2ga3lpLO1m2i"
   },
   "source": [
    "## Obtener una lista de tuplas de un diccionario\n",
    "\n",
    "Para obtener una lista de tuplas correspondiente al diccionario se utiliza ```items```:"
   ]
  },
  {
   "cell_type": "code",
   "execution_count": 1,
   "metadata": {
    "id": "dtwYwqDb1m2j"
   },
   "outputs": [
    {
     "name": "stdout",
     "output_type": "stream",
     "text": [
      "[(22, 'SSH'), (23, 'telnet'), (80, 'Http')]\n"
     ]
    }
   ],
   "source": [
    "dict_ports1 = {22: \"SSH\", 23: \"telnet\", 80: \"Http\"}\n",
    "print(list(dict_ports1.items()))"
   ]
  },
  {
   "cell_type": "markdown",
   "metadata": {
    "id": "pO8af_fO1m2m"
   },
   "source": [
    "## Mostrar las llaves de un diccionario\n",
    "\n",
    "Una forma de mostrar las llaves es la siguiente:"
   ]
  },
  {
   "cell_type": "code",
   "execution_count": 19,
   "metadata": {
    "id": "Ruc548Xe1m2m"
   },
   "outputs": [
    {
     "name": "stdout",
     "output_type": "stream",
     "text": [
      "22\n",
      "23\n",
      "80\n"
     ]
    }
   ],
   "source": [
    "dict_ports = {22: \"SSH\", 23: \"telnet\", 80: \"Http\"}\n",
    "for key in dict_ports:\n",
    "    print(key)"
   ]
  },
  {
   "cell_type": "code",
   "execution_count": null,
   "metadata": {
    "id": "TwJyhDrx1m2p"
   },
   "outputs": [],
   "source": []
  },
  {
   "cell_type": "markdown",
   "metadata": {
    "id": "ecrlaUz81m2s"
   },
   "source": [
    "\n",
    "    "
   ]
  },
  {
   "cell_type": "markdown",
   "metadata": {
    "id": "Hu97PMFd1m2s"
   },
   "source": [
    "### Ejercicio 1\n",
    "\n",
    "Utilizando el diccionario de puertos ```port1 = {21: \"FTP\", 22:\"SSH\", 23: \"telnet\", 80:\n",
    "\"http\"}``` cree un nuevo diccionario donde las llaves se vuelvan valores y los valores llaves: así: ```port2 = {\"FTP\":21, \"SSH\":22, \"telnet\":23, \"http\": 80}```\n",
    "\n"
   ]
  },
  {
   "cell_type": "code",
   "execution_count": 9,
   "metadata": {
    "id": "zpUKFrDg1m2s"
   },
   "outputs": [
    {
     "name": "stdout",
     "output_type": "stream",
     "text": [
      "{'FTP': 21, 'SSH': 22, 'telnet': 23, 'http': 80}\n"
     ]
    }
   ],
   "source": [
    "port1 = {21: \"FTP\", 22:\"SSH\", 23: \"telnet\", 80: \"http\"}\n",
    "port2 = {}\n",
    "for key in port1:\n",
    "    port2[port1.get(key)] = key\n",
    "print(port2)"
   ]
  },
  {
   "cell_type": "markdown",
   "metadata": {
    "id": "s1VBk-AR1m2u"
   },
   "source": [
    "### Ejercicio 2: Yendo al mercado\n",
    "\n",
    "Dory quiere ir al mercado a comprar frutas y vegetales. Como es un poco olvidadiza suele ir al mercado varias veces para ir a comprar diferentes frutas y verduras.\n",
    "\n",
    "Entrada:\n",
    "La entrada de este problema contiene un entero N que es la cantidad de viajes que hace al mercado. En cada viaje se define un número M correspondiente a la cantidad de productos disponibles en el mercado. Después se tienen M productos con sus precios respectivos por kg. La siguiente entrada contiene un entero P que indica la cantidad de productos que Dory quiere comprar. Las siguientes líneas contienen el nombre del producto y la cantidad de kilos que Dory quiere comprar.\n",
    "\n",
    "Salida:\n",
    "Muestre el dinero gastado por Dory en cada viaje al mercado con dos cifras de precisión decimal.\n",
    "\n",
    "<table>\n",
    "    <tr>\n",
    "        <td>Input</td><td>Ouput</td>\n",
    "    </tr>\n",
    "    <tr>\n",
    "        <td>1<br>\n",
    "            5<br>\n",
    "            uva 2.50<br>\n",
    "            banano 4.00<br>\n",
    "            pera 2.10<br>\n",
    "            granadilla 6.00<br>\n",
    "            naranja 5.00<br>\n",
    "            5<br>\n",
    "            uva 10<br>\n",
    "            banano 10<br>\n",
    "            pera 15<br>\n",
    "            granadilla 12<br>\n",
    "            naranja 18<br>\n",
    "        </td><td>$258.50</td>\n",
    "        </tr>\n",
    "</table>\n",
    "   \n"
   ]
  },
  {
   "cell_type": "code",
   "execution_count": null,
   "metadata": {
    "id": "9UgWo8KU1m2u"
   },
   "outputs": [],
   "source": [
    "#Cantidad de viajes\n",
    "n = int(input())\n",
    "totalviajes = {}\n",
    "for i in range(n):\n",
    "    #Cantidad de productos disponibles\n",
    "    m = int(input())\n",
    "    productosdisponibles = {}\n",
    "    for p in range(m):\n",
    "        pd = (input())\n",
    "        x = pd.split(\" \")\n",
    "        #Agregando productos disponibles\n",
    "        productosdisponibles[x[0]] = x[1] \n",
    "    #Cantidad de productos deseados\n",
    "    d = int(input())\n",
    "    #precio total\n",
    "    tp = 0\n",
    "    for p in range(d):\n",
    "        producto = (input())\n",
    "        #Sumando valores a precio total\n",
    "        y = producto.split(\" \")\n",
    "        t = (float(productosdisponibles[y[0]])) * (float(y[1])) \n",
    "        tp = tp + t\n",
    "    totalviajes[i] = (\"$\" + \"{0:.2f}\".format(tp))\n",
    "\n",
    "for key in totalviajes:\n",
    "    print(totalviajes[key])"
   ]
  },
  {
   "cell_type": "markdown",
   "metadata": {
    "id": "ynRBOgZS1m2x"
   },
   "source": [
    "# Conjuntos \n",
    "\n",
    "Los conjuntos en python pueden ser muy útiles para eliminar datos duplicados. Si se tiene una lista de nombres que puede estar duplicada, basta con convertirla en conjunto para eliminar los datos duplicados. Esta estructura también está optimizada para buscar datos pues las listas realizan una búsqueda secuencial. "
   ]
  },
  {
   "cell_type": "markdown",
   "metadata": {
    "id": "toR3z6Bc1m2y"
   },
   "source": [
    "## Definir un conjunto\n",
    "\n",
    "Para definir el conjunto de las vocales:"
   ]
  },
  {
   "cell_type": "code",
   "execution_count": 10,
   "metadata": {
    "id": "QfzFPe3t1m2y"
   },
   "outputs": [
    {
     "name": "stdout",
     "output_type": "stream",
     "text": [
      "{'i', 'a', 'u', 'e', 'o'}\n"
     ]
    }
   ],
   "source": [
    "vocales = {'a', 'e', 'i', 'o', 'u', 'a', 'a', 'o', 'e'}\n",
    "print(vocales)"
   ]
  },
  {
   "cell_type": "markdown",
   "metadata": {
    "id": "Ip-VQjQJ1m2z"
   },
   "source": [
    "Los datos no se almacenan necesariamente en orden. A diferencia de un diccionario se tienen datos no ítems de la forma ```llave:valor```.\n",
    "\n",
    "Es posible ordenar un conjunto así:"
   ]
  },
  {
   "cell_type": "code",
   "execution_count": 14,
   "metadata": {
    "id": "1G7RRSYL1m20",
    "scrolled": true
   },
   "outputs": [
    {
     "data": {
      "text/plain": [
       "['a', 'e', 'i', 'o', 'u']"
      ]
     },
     "execution_count": 14,
     "metadata": {},
     "output_type": "execute_result"
    }
   ],
   "source": [
    "sorted(vocales)"
   ]
  },
  {
   "cell_type": "markdown",
   "metadata": {
    "id": "FePrPcOu1m3H"
   },
   "source": [
    "## Creación de un conjunto a partir de strings, listas o tuplas\n",
    "\n",
    "Se pueden crear conjuntos a partir de strings, listas o tuplas:"
   ]
  },
  {
   "cell_type": "code",
   "execution_count": 15,
   "metadata": {
    "id": "E0ymkifg1m3H",
    "scrolled": true
   },
   "outputs": [
    {
     "name": "stdout",
     "output_type": "stream",
     "text": [
      "{'i', 'a', 'u', 'e', 'o'}\n",
      "{'i', 'a', 'u', 'e', 'o'}\n",
      "{'i', 'a', 'u', 'e', 'o'}\n"
     ]
    }
   ],
   "source": [
    "str_vocales = 'aaaeeeeioooouooooi'\n",
    "vocals = set(str_vocales)\n",
    "print(vocals)\n",
    "\n",
    "l_vocals = ['a', 'e', 'i', 'o', 'u', 'i']\n",
    "vocalsl = set(l_vocals)\n",
    "print(vocalsl)\n",
    "\n",
    "t_vocals = ('a', 'e', 'i', 'o', 'u', 'i')\n",
    "vocalst = set(t_vocals)\n",
    "print(vocalsl)\n"
   ]
  },
  {
   "cell_type": "markdown",
   "metadata": {
    "id": "qSXQbUx71m3J"
   },
   "source": [
    "## Determinar si un elemento pertenece a un conjunto\n",
    "\n",
    "Es posible utilizar el operador ```in``` para saber si un elemento se encuentra en el conjunto:"
   ]
  },
  {
   "cell_type": "code",
   "execution_count": 16,
   "metadata": {
    "id": "lSbZSr_Y1m3K"
   },
   "outputs": [
    {
     "name": "stdout",
     "output_type": "stream",
     "text": [
      "True\n"
     ]
    }
   ],
   "source": [
    "print('a' in vocales)"
   ]
  },
  {
   "cell_type": "code",
   "execution_count": 17,
   "metadata": {
    "id": "nH8y20Dp1m3M"
   },
   "outputs": [
    {
     "name": "stdout",
     "output_type": "stream",
     "text": [
      "False\n"
     ]
    }
   ],
   "source": [
    "print('b' in vocales)"
   ]
  },
  {
   "cell_type": "markdown",
   "metadata": {
    "id": "t4oua92X1m3N"
   },
   "source": [
    "## Unión de conjuntos\n",
    "\n",
    "Es posible unir dos conjuntos:\n"
   ]
  },
  {
   "cell_type": "code",
   "execution_count": 18,
   "metadata": {
    "id": "F34mIw3a1m3O"
   },
   "outputs": [
    {
     "name": "stdout",
     "output_type": "stream",
     "text": [
      "{'x', 'g', 'i', 'a', 'e', 'm', 'l', 'r', 'n', 'u', 'c', 's', 'o', 't', 'd'}\n",
      "{'x', 'g', 'i', 'a', 'e', 'm', 'l', 'r', 'n', 'u', 'c', 's', 'o', 't', 'd'}\n"
     ]
    }
   ],
   "source": [
    "seta = set('murcielago')\n",
    "setb = set('externocleidomastoideo')\n",
    "setc = seta.union(setb)\n",
    "print(setc)\n",
    "\n",
    "setc = seta | setb\n",
    "print(setc)"
   ]
  },
  {
   "cell_type": "markdown",
   "metadata": {
    "id": "Iu-H4El61m3P"
   },
   "source": [
    "## Diferencia de conjuntos\n",
    "\n",
    "Permite examinar los datos que están en un conjunto de palabras que no están en otro:"
   ]
  },
  {
   "cell_type": "code",
   "execution_count": 19,
   "metadata": {
    "id": "glHuZEQq1m3Q"
   },
   "outputs": [],
   "source": [
    "stop_wordsA = {'el', 'un', 'la', 'los'}\n",
    "stop_wordsB = {'un', 'una', 'unos', 'el'}"
   ]
  },
  {
   "cell_type": "markdown",
   "metadata": {
    "id": "JC82enl91m3T"
   },
   "source": [
    "Para determinar los elementos que están en stop_wordsA que no están en stop_wordsB basta con:"
   ]
  },
  {
   "cell_type": "code",
   "execution_count": 20,
   "metadata": {
    "id": "dqIg2V_C1m3T"
   },
   "outputs": [
    {
     "name": "stdout",
     "output_type": "stream",
     "text": [
      "{'la', 'los'}\n",
      "{'la', 'los'}\n"
     ]
    }
   ],
   "source": [
    "print(stop_wordsA - stop_wordsB)\n",
    "print(stop_wordsA.difference(stop_wordsB))"
   ]
  },
  {
   "cell_type": "markdown",
   "metadata": {
    "id": "lKvZO13h1m3W"
   },
   "source": [
    "Para determinar los elementos que están en stop_wordsB que no están en stop_wordsA basta con:"
   ]
  },
  {
   "cell_type": "code",
   "execution_count": 21,
   "metadata": {
    "id": "QLckKs5K1m3W"
   },
   "outputs": [
    {
     "name": "stdout",
     "output_type": "stream",
     "text": [
      "{'una', 'unos'}\n",
      "{'una', 'unos'}\n"
     ]
    }
   ],
   "source": [
    "print(stop_wordsB - stop_wordsA)\n",
    "print(stop_wordsB.difference(stop_wordsA))"
   ]
  },
  {
   "cell_type": "markdown",
   "metadata": {
    "id": "9HMKLhLl1m3a"
   },
   "source": [
    "## Intersección de conjuntos\n",
    "\n",
    "Para determinar los elementos que tienen en común los conjuntos de stop_words:"
   ]
  },
  {
   "cell_type": "code",
   "execution_count": 22,
   "metadata": {
    "id": "eNTAj6GR1m3a"
   },
   "outputs": [
    {
     "name": "stdout",
     "output_type": "stream",
     "text": [
      "{'un', 'el'}\n",
      "{'un', 'el'}\n"
     ]
    }
   ],
   "source": [
    "print(stop_wordsB.intersection(stop_wordsA))\n",
    "print(stop_wordsB & stop_wordsA)"
   ]
  },
  {
   "cell_type": "markdown",
   "metadata": {
    "id": "8Ctv93i21m3c"
   },
   "source": [
    "## Diferencia simétrica\n",
    "\n",
    "La diferencia simétrica consiste en encontrar elementos que están en la unión de dos conjuntos pero no en la intersección"
   ]
  },
  {
   "cell_type": "code",
   "execution_count": 23,
   "metadata": {
    "id": "9-6WRzYX1m3c"
   },
   "outputs": [
    {
     "data": {
      "text/plain": [
       "{'la', 'los', 'una', 'unos'}"
      ]
     },
     "execution_count": 23,
     "metadata": {},
     "output_type": "execute_result"
    }
   ],
   "source": [
    "stop_wordsB ^ stop_wordsA"
   ]
  },
  {
   "cell_type": "markdown",
   "metadata": {
    "id": "lRKpaeu-1m3e"
   },
   "source": [
    "## Leer datos y convertirlos a un tipo de dato dado\n",
    "Para leer enteros separados por espacio y convertirlos a set:"
   ]
  },
  {
   "cell_type": "code",
   "execution_count": 26,
   "metadata": {
    "id": "STS0COmZ1m3f"
   },
   "outputs": [
    {
     "name": "stdout",
     "output_type": "stream",
     "text": [
      "1 2 3\n",
      "{1, 2, 3}\n",
      "<class 'set'>\n"
     ]
    }
   ],
   "source": [
    "t = set(map(int, input().split(' ')))\n",
    "print(t) #digite por ejemplo 1 2 3\n",
    "print(type(t))"
   ]
  },
  {
   "cell_type": "markdown",
   "metadata": {
    "id": "RUY7tkG01m3g"
   },
   "source": [
    "## Ejercicio: Intersección de n Conjuntos:\n",
    "\n",
    "Se tienen n conjuntos. Se desea calcular la intersección de dichos conjuntos. \n",
    "\n",
    "### Entrada:\n",
    "La entrada consta de un número n > 1 de conjuntos seguido por los elementos separados por espacio.\n",
    "\n",
    "### Salida:\n",
    "Muestre la intersección de los n conjuntos ó ```empty set``` si la intersección es un conjunto vacío.\n",
    "\n",
    "### Ejemplo 1\n",
    "\n",
    "<table>\n",
    "    <tr>\n",
    "        <td>Input</td><td>Output</td>\n",
    "    </tr>\n",
    "    <tr>\n",
    "        <td>3<br>\n",
    "            1 2 2 3 4<br>\n",
    "            2 2 3 5 6<br>\n",
    "            1 3 2 2 6<br>\n",
    "        </td><td>2 3\n",
    "    </tr>\n",
    "</table>\n",
    "\n",
    "\n",
    "### Ejemplo 2\n",
    "\n",
    "<table>\n",
    "    <tr>\n",
    "        <td>Input</td><td>Output</td>\n",
    "    </tr>\n",
    "    <tr>\n",
    "        <td>3<br>\n",
    "            1 1<br>\n",
    "            2 2<br>\n",
    "            3 3<br>\n",
    "        </td><td>empty set\n",
    "    </tr>\n",
    "</table>"
   ]
  },
  {
   "cell_type": "code",
   "execution_count": 21,
   "metadata": {},
   "outputs": [
    {
     "name": "stdout",
     "output_type": "stream",
     "text": [
      "¿Cúantos conjuntos tienes: ?3\n",
      "1 2 2 3 4\n",
      "2 2 3 5 6\n",
      "1 3 2 2 6\n",
      "[{1, 2, 3, 4}, {2, 3, 5, 6}, {1, 2, 3, 6}]\n",
      "{2, 3}\n"
     ]
    }
   ],
   "source": [
    "n = int(input(\"¿Cúantos conjuntos tienes: ?\"))\n",
    "conjunto = []\n",
    "x = 0\n",
    "for p in range(n):\n",
    "    conjunto.append(set(map(int, input().split(' '))))\n",
    "print (conjunto)\n",
    "contador = 0\n",
    "for i in conjunto:\n",
    "    x = conjunto[contador].intersection(conjunto[contador+1])\n",
    "\n",
    "if x == set():\n",
    "    print(\"empty set\")\n",
    "else:\n",
    "    print(x)\n",
    "    \n"
   ]
  },
  {
   "cell_type": "markdown",
   "metadata": {
    "id": "M8MjCi151m3h"
   },
   "source": [
    "# Combinando estructuras de datos:\n",
    "\n",
    "### Ejercicio: \n",
    "\n",
    "¿Cómo representaría la siguiente tabla de datos utilizando un diccionario de diccionarios, donde la llave es el primer nombre de la mascota?\n",
    "\n",
    "![](https://github.com/arleserp/MinTIC2022/blob/master/images/tablita.png?raw=1)"
   ]
  },
  {
   "cell_type": "code",
   "execution_count": 23,
   "metadata": {
    "id": "ILa_UGkn1m3h"
   },
   "outputs": [],
   "source": [
    "Sam = {'Nombre': 'Sam Smith', 'Genero': 'M', 'Ocupación': 'Gato', 'Ciudad': 'Bogotá'}\n",
    "Lobo = {'Nombre': 'Lobo W', 'Genero': 'F', 'Ocupación': 'Perro', 'Ciudad': 'Bogotá'}\n",
    "Marvin = {'Nombre': 'Marvin', 'Genero': 'M', 'Ocupación': 'Loro', 'Ciudad': 'Cali'}\n",
    "Hussain = {'Nombre': 'Hussain', 'Genero': 'F', 'Ocupación': 'Hamster', 'Ciudad': 'Bogotá'}     \n",
    "\n",
    "mascotas = {\"Sam\":Sam, \"Lobo\":Lobo, \"Marvin\":Marvin, \"Hussain\":Hussain}\n"
   ]
  },
  {
   "cell_type": "code",
   "execution_count": 24,
   "metadata": {
    "id": "v1BkgY931m3l"
   },
   "outputs": [
    {
     "name": "stdout",
     "output_type": "stream",
     "text": [
      "{'Sam': {'Nombre': 'Sam Smith', 'Genero': 'M', 'Ocupación': 'Gato', 'Ciudad': 'Bogotá'}, 'Lobo': {'Nombre': 'Lobo W', 'Genero': 'F', 'Ocupación': 'Perro', 'Ciudad': 'Bogotá'}, 'Marvin': {'Nombre': 'Marvin', 'Genero': 'M', 'Ocupación': 'Loro', 'Ciudad': 'Cali'}, 'Hussain': {'Nombre': 'Hussain', 'Genero': 'F', 'Ocupación': 'Hamster', 'Ciudad': 'Bogotá'}}\n"
     ]
    }
   ],
   "source": [
    "print(mascotas)"
   ]
  },
  {
   "cell_type": "code",
   "execution_count": 25,
   "metadata": {
    "id": "lZ9W724E1m3m"
   },
   "outputs": [
    {
     "name": "stdout",
     "output_type": "stream",
     "text": [
      "{'Hussain': {'Ciudad': 'Bogotá',\n",
      "             'Genero': 'F',\n",
      "             'Nombre': 'Hussain',\n",
      "             'Ocupación': 'Hamster'},\n",
      " 'Lobo': {'Ciudad': 'Bogotá',\n",
      "          'Genero': 'F',\n",
      "          'Nombre': 'Lobo W',\n",
      "          'Ocupación': 'Perro'},\n",
      " 'Marvin': {'Ciudad': 'Cali',\n",
      "            'Genero': 'M',\n",
      "            'Nombre': 'Marvin',\n",
      "            'Ocupación': 'Loro'},\n",
      " 'Sam': {'Ciudad': 'Bogotá',\n",
      "         'Genero': 'M',\n",
      "         'Nombre': 'Sam Smith',\n",
      "         'Ocupación': 'Gato'}}\n"
     ]
    }
   ],
   "source": [
    "from pprint import pprint \n",
    "\n",
    "pprint(mascotas)"
   ]
  },
  {
   "cell_type": "markdown",
   "metadata": {
    "id": "LFJu0QtK1m3n"
   },
   "source": [
    "## Ejercicio operaciones:"
   ]
  },
  {
   "cell_type": "markdown",
   "metadata": {
    "id": "ICZNhYJ91m3o"
   },
   "source": [
    "Imprimir la ocupación de Sam:"
   ]
  },
  {
   "cell_type": "code",
   "execution_count": null,
   "metadata": {
    "id": "W2zs0Rtl1m3o"
   },
   "outputs": [],
   "source": [
    "mascotas['Sam']['Ocupación']"
   ]
  },
  {
   "cell_type": "markdown",
   "metadata": {
    "id": "oZl9cfOw1m3q"
   },
   "source": [
    "De donde es marvin?"
   ]
  },
  {
   "cell_type": "code",
   "execution_count": 26,
   "metadata": {
    "id": "OQq3py7J1m3q"
   },
   "outputs": [
    {
     "data": {
      "text/plain": [
       "'Cali'"
      ]
     },
     "execution_count": 26,
     "metadata": {},
     "output_type": "execute_result"
    }
   ],
   "source": [
    "mascotas['Marvin']['Ciudad']"
   ]
  },
  {
   "cell_type": "markdown",
   "metadata": {
    "id": "gdP4xpd-1m3s"
   },
   "source": [
    "A qué se dedica Hussain?"
   ]
  },
  {
   "cell_type": "code",
   "execution_count": 27,
   "metadata": {
    "id": "xGOZUpzi1m3t"
   },
   "outputs": [
    {
     "data": {
      "text/plain": [
       "'Hamster'"
      ]
     },
     "execution_count": 27,
     "metadata": {},
     "output_type": "execute_result"
    }
   ],
   "source": [
    "mascotas['Hussain']['Ocupación']"
   ]
  },
  {
   "cell_type": "markdown",
   "metadata": {
    "id": "idQ5OINc1m3u"
   },
   "source": [
    "Liste las mascotas de Bogotá:"
   ]
  },
  {
   "cell_type": "code",
   "execution_count": 28,
   "metadata": {
    "id": "oZJYmYIX1m3v",
    "scrolled": true
   },
   "outputs": [
    {
     "name": "stdout",
     "output_type": "stream",
     "text": [
      "Sam\n",
      "Lobo\n",
      "Marvin\n",
      "Hussain\n"
     ]
    }
   ],
   "source": [
    "for key in mascotas:\n",
    "    print(key)"
   ]
  },
  {
   "cell_type": "markdown",
   "metadata": {
    "id": "CcK-jEc61m3w"
   },
   "source": [
    "Liste las mascotas de Género M:"
   ]
  },
  {
   "cell_type": "code",
   "execution_count": 47,
   "metadata": {
    "id": "bvKXRAd71m3w"
   },
   "outputs": [
    {
     "name": "stdout",
     "output_type": "stream",
     "text": [
      "Lobo\n",
      "Hussain\n"
     ]
    }
   ],
   "source": [
    "for key in mascotas:\n",
    "    if mascotas[key]['Genero'] == 'F':\n",
    "        print(key)\n",
    "\n",
    "        "
   ]
  },
  {
   "cell_type": "markdown",
   "metadata": {
    "id": "R-p7iclo1m3y"
   },
   "source": [
    "### Referencias:\n",
    "\n",
    "Barry, P. (2016). Head First Python: A Brain-Friendly Guide. \" O'Reilly Media, Inc.\".\n",
    "\n",
    "Das, B. N. (2017). Learn Python in 7 Days. Packt Publishing Ltd.\n",
    "\n",
    "https://codeforces.com/\n",
    "\n",
    "Rodríguez, A (2020). Curso de Programación en Python. https://github.com/arleserp/cursopython"
   ]
  },
  {
   "cell_type": "markdown",
   "metadata": {
    "id": "Rrq70m991m3y"
   },
   "source": [
    "Dory quiere ir al mercado a comprar frutas y vegetales. Como es un poco olvidadiza suele ir al mercado varias veces para ir a comprar diferentes frutas y verduras.\n",
    "\n",
    "Entrada:\n",
    "\n",
    "La entrada de este problema contiene un entero N que es la cantidad de viajes que hace al mercado. En cada viaje se define un número M correspondiente a la cantidad de productos disponibles en el mercado. Después se tienen M productos con sus precios respectivos por kg. La siguiente entrada contiene un entero P que indica la cantidad de productos que Dory quiere comprar. Las siguientes líneas contienen el nombre del producto y la cantidad de kilos que Dory quiere comprar.\n",
    "\n",
    "Salida:\n",
    "\n",
    "Muestre el dinero gastado por Dory en cada viaje al mercado con dos cifras de precisión decimal.\n",
    "\n",
    "Ejemplo:"
   ]
  },
  {
   "cell_type": "code",
   "execution_count": 53,
   "metadata": {
    "scrolled": false
   },
   "outputs": [
    {
     "name": "stdout",
     "output_type": "stream",
     "text": [
      "1\n",
      "1\n",
      "maiz 1000\n",
      "1\n",
      "maiz 1\n",
      "$1000.00\n"
     ]
    }
   ],
   "source": [
    "#Cantidad de viajes\n",
    "n = int(input())\n",
    "totalviajes = {}\n",
    "for i in range(n):\n",
    "    #Cantidad de productos disponibles\n",
    "    m = int(input())\n",
    "    productosdisponibles = {}\n",
    "    for p in range(m):\n",
    "        pd = (input())\n",
    "        x = pd.split(\" \")\n",
    "        #Agregando productos disponibles\n",
    "        productosdisponibles[x[0]] = x[1] \n",
    "    #Cantidad de productos deseados\n",
    "    d = int(input())\n",
    "    #precio total\n",
    "    tp = 0\n",
    "    for p in range(d):\n",
    "        producto = (input())\n",
    "        #Sumando valores a precio total\n",
    "        y = producto.split(\" \")\n",
    "        t = (float(productosdisponibles[y[0]])) * (float(y[1])) \n",
    "        tp = tp + t\n",
    "    totalviajes[i] = (\"$\" + \"{0:.2f}\".format(tp))\n",
    "\n",
    "for key in totalviajes:\n",
    "    print(totalviajes[key])\n"
   ]
  },
  {
   "cell_type": "markdown",
   "metadata": {},
   "source": []
  },
  {
   "cell_type": "code",
   "execution_count": null,
   "metadata": {},
   "outputs": [],
   "source": [
    "1"
   ]
  }
 ],
 "metadata": {
  "colab": {
   "name": "13-Diccionarios y Conjuntos.ipynb",
   "provenance": []
  },
  "kernelspec": {
   "display_name": "Python 3",
   "language": "python",
   "name": "python3"
  },
  "language_info": {
   "codemirror_mode": {
    "name": "ipython",
    "version": 3
   },
   "file_extension": ".py",
   "mimetype": "text/x-python",
   "name": "python",
   "nbconvert_exporter": "python",
   "pygments_lexer": "ipython3",
   "version": "3.8.3"
  }
 },
 "nbformat": 4,
 "nbformat_minor": 1
}
