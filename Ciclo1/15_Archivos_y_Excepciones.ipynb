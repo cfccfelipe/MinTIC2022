{
 "cells": [
  {
   "cell_type": "markdown",
   "metadata": {
    "id": "rvzIoaKaHvMT"
   },
   "source": [
    "# Manejo de archivos en python"
   ]
  },
  {
   "cell_type": "markdown",
   "metadata": {
    "id": "31xBCqYmHvMV"
   },
   "source": [
    "## Archivos binarios y de texto en python\n",
    "\n",
    "La mayoría de archivos que se utilizan en un computador son binarios. Entre ellos:\n",
    "\n",
    "- archivos de documentos .doc, .pdf, xls\n",
    "- imágenes en formatos .jpg, .png, .bmp, .gif\n",
    "- archivos de bases de datos .mdb, .sqlite\n",
    "\n",
    "Para poder leer estos archivos, se requiere un software específico.\n",
    "\n",
    "Un archivo de texto se puede abrir con cualquier editor. Estos archivos están organizados por líneas. Los archivos de texto tienen un caracter que identifica el final de cada línea. En python están notados por ```\\n```.  "
   ]
  },
  {
   "cell_type": "markdown",
   "metadata": {
    "id": "wGmxeErPHvMY"
   },
   "source": [
    "Hasta ahora hemos leído por teclado las entradas de los programas. Ahora se leerán y se escribirán principalmente \n",
    "archivos de texto. En python no se requiere importar ningún módulo especial para un manejo básico de archivos."
   ]
  },
  {
   "cell_type": "markdown",
   "metadata": {
    "id": "THhXWqp3HvMa"
   },
   "source": [
    "## Direccionamiento absoluto y relativo\n",
    "\n",
    "Es posible trabajar con direccionamiento absoluto o relativo en python. En los ejemplos anteriores se realizó direccionamiento relativo a partir de la carpeta donde se descargó este notebook. En esta carpeta hay una carpeta llamada files y allí se encuentra el archivo 'data.txt'.\n",
    "\n",
    "Para dar soporte a los diferentes sistemas operativos como windows y trabajar con direccionamiento absoluto se tienen las siguientes opciones:\n",
    "\n",
    "\n",
    "- ```\"C:\\\\ThisFolder\\\\workData.txt\"```\n",
    "- ```\"C:/ThisFolder/workData.txt\"```"
   ]
  },
  {
   "cell_type": "markdown",
   "metadata": {
    "id": "jDg3BdUOHvMd"
   },
   "source": [
    "![](https://raw.githubusercontent.com/arleserp/MinTIC2022/master/images/carpetas.png \"Aquí se puede seleccionar jupyter o spyder\")"
   ]
  },
  {
   "cell_type": "markdown",
   "metadata": {
    "id": "Zl9oZV0LHvMg"
   },
   "source": [
    "Así luce el archivo data.txt\n",
    "\n",
    "![](https://raw.githubusercontent.com/arleserp/MinTIC2022/master/images/datatxt.png \"Aquí se puede seleccionar jupyter o spyder\")"
   ]
  },
  {
   "cell_type": "markdown",
   "metadata": {
    "id": "c2a0bHbyHvMh"
   },
   "source": [
    "## Leer  un archivo\n",
    "\n",
    "```open()``` toma un nombre de archivo y modo como argumentos. ```r``` abre el archivo en modo de lectura (read).  `with` asegura un uso propio y liberación de recursos. Aquí vamos a trabajar con archivos de texto ubicados en el computador. En el siguiente ejemplo se abrirán archivos ubicados en la carpeta files. Así luce la carpeta files en el computador:\n"
   ]
  },
  {
   "cell_type": "code",
   "execution_count": null,
   "metadata": {
    "id": "_n1kAJ7yHvMn",
    "outputId": "33104460-b1d9-403b-e281-08a180c35314"
   },
   "outputs": [
    {
     "name": "stdout",
     "output_type": "stream",
     "text": [
      "Hola amigos!!!\n"
     ]
    }
   ],
   "source": [
    "with open('files/data.txt', 'r') as f:\n",
    "    data = f.read()\n",
    "    print(data)"
   ]
  },
  {
   "cell_type": "markdown",
   "metadata": {
    "id": "2Z8uPBdoHvMy"
   },
   "source": [
    "Las celdas de este notebook pueden ser ejecutadas desde el notebook o desde archivos en python en visual studio code como se muestra a continuación:"
   ]
  },
  {
   "cell_type": "markdown",
   "metadata": {
    "id": "DmTZgNL6HvMz"
   },
   "source": [
    "![](https://raw.githubusercontent.com/arleserp/MinTIC2022/master/images/archivosvscode.png \"Aquí se puede seleccionar jupyter o spyder\")"
   ]
  },
  {
   "cell_type": "markdown",
   "metadata": {
    "id": "eg28hhRfHvM1"
   },
   "source": [
    "Es posible abrir un notebook desde visual studio code:"
   ]
  },
  {
   "cell_type": "markdown",
   "metadata": {
    "id": "2JIOjaMvHvM2"
   },
   "source": [
    "![](https://raw.githubusercontent.com/arleserp/MinTIC2022/master/images/notebookvscode.png \"Aquí se puede seleccionar jupyter o spyder\")"
   ]
  },
  {
   "cell_type": "markdown",
   "metadata": {
    "id": "IL6hOPzaHvM4"
   },
   "source": [
    "## Escribir en un archivo\n",
    "\n",
    "Para escribir información en un archivo se para el argumento ```w``` (write):"
   ]
  },
  {
   "cell_type": "code",
   "execution_count": null,
   "metadata": {
    "id": "J7KXuW26HvM6"
   },
   "outputs": [],
   "source": [
    "with open('files/wdata.txt', 'w') as f:\n",
    "    data = 'estamos escribiendo en el archivo 123\\n'\n",
    "    f.write(data)\n",
    "    f.write(data)\n",
    "    f.write(data)"
   ]
  },
  {
   "cell_type": "markdown",
   "metadata": {
    "id": "xz6V-gYMHvNF"
   },
   "source": [
    "Así se ve el archivo:"
   ]
  },
  {
   "cell_type": "markdown",
   "metadata": {
    "id": "C99f_toZHvNG"
   },
   "source": [
    "![](https://raw.githubusercontent.com/arleserp/MinTIC2022/master/images/escribirarchivo.png \"Aquí se puede seleccionar jupyter o spyder\")"
   ]
  },
  {
   "cell_type": "markdown",
   "metadata": {
    "id": "uCzOg1RAHvNG"
   },
   "source": [
    "## Agregar contenido al final de un archivo (append)"
   ]
  },
  {
   "cell_type": "code",
   "execution_count": null,
   "metadata": {
    "id": "HL_RKsQSHvNI"
   },
   "outputs": [],
   "source": [
    "with open('files/wdata.txt', 'a', encoding='utf-8') as f:\n",
    "    data = 'más cosas\\n'\n",
    "    f.write(data)\n",
    "    f.write(data)\n",
    "    f.write(data)"
   ]
  },
  {
   "cell_type": "markdown",
   "metadata": {
    "id": "RCL4e-Y6HvNQ"
   },
   "source": [
    "## Otros modos de apertura de archivos \n",
    "\n",
    "Otros modos de abrir archivos en python son:\n",
    "\n",
    "- 'r+' – (read/write): Este modo es usado cuando se desean hacer cambios al archivo y a la vez leer información. El puntero del archivo se ubica al principio del archivo.\n",
    "- 'a+' – (append and Read): Se abre el archivo para escribir y leer del archivo. El puntero del archivo se ubica al final del archivo.\n",
    "- x (exclusive creation): usado exclusivamente para crear un archivo. Si existe un archivo con el mismo nombre la función fallará.\n",
    "\n",
    "Para leer archivos binarios se agrega la letra b al final del modificador. Por ejemplo para escribir ```wb``` y los otros serían ```rb```, ```ab```, ```r+b``` y ```a+b```."
   ]
  },
  {
   "cell_type": "markdown",
   "metadata": {
    "id": "616bYyI7HvNS"
   },
   "source": [
    "## Lectura de un archivo \n",
    "\n",
    "Para leer el contenido de un archivo se puede usar ```read()```. Sin parámetros leerá el archivo entero y almacenará el contenido la salida como un string si es un archivo de texto o como objetos en bytes si se trata de un archivo binario. \n",
    "\n",
    "Si se trata de leer un archivo más grande que la memoria disponible no se podrá leer todo el archivo de una vez. En este caso se puede leer el archivo por bytes.\n",
    "\n",
    "Si se tiene el siguiente archivo llamado ```datos1.txt``` con el siguiente contenido:\n",
    "\n",
    "```\n",
    "    Esta es la línea 1: abcabcabc\n",
    "    Esta es la línea 2: abcabcabc\n",
    "    Esta es la línea 3: abcabcabc\n",
    "```"
   ]
  },
  {
   "cell_type": "code",
   "execution_count": null,
   "metadata": {
    "id": "8-e-5Fb3HvNS",
    "outputId": "a1f208c3-92e8-45db-8ec8-2c78c033c45a"
   },
   "outputs": [
    {
     "name": "stdout",
     "output_type": "stream",
     "text": [
      "Esta es la lÃ­nea 1: abcabcabc\n",
      "Esta es la lÃ­nea 2: abcabcabc\n",
      "Esta es la lÃ­nea 3: abcabcabc\n"
     ]
    }
   ],
   "source": [
    "with open('files/data1.txt', 'r') as f:\n",
    "    print(f.read())"
   ]
  },
  {
   "cell_type": "markdown",
   "metadata": {
    "id": "XcaFENmSHvNZ"
   },
   "source": [
    "## Leer archivos con tíldes\n",
    "\n",
    "Para no tener problemas de codificación se puede agregar el siguiente parámetro:"
   ]
  },
  {
   "cell_type": "code",
   "execution_count": null,
   "metadata": {
    "id": "dHF9oFjhHvNZ",
    "outputId": "4b7d9b0c-21e8-48d0-8286-9220339a7a85"
   },
   "outputs": [
    {
     "name": "stdout",
     "output_type": "stream",
     "text": [
      "Esta es la línea 1: abcabcabc\n",
      "Esta es la línea 2: abcabcabc\n",
      "Esta es la línea 3: abcabcabc\n"
     ]
    }
   ],
   "source": [
    "with open('files/data1.txt', 'r', encoding=\"utf-8\") as f:\n",
    "    print(f.read())"
   ]
  },
  {
   "cell_type": "markdown",
   "metadata": {
    "id": "tnWcHb5xHvNg"
   },
   "source": [
    "## Leer byte a byte\n",
    "\n",
    "Ahora si se desean leer solamente los primeros 6 bytes:"
   ]
  },
  {
   "cell_type": "code",
   "execution_count": null,
   "metadata": {
    "id": "gxB5eFWaHvNh",
    "outputId": "71aa4df7-d0a5-4b12-c772-9a01e94a6037"
   },
   "outputs": [
    {
     "name": "stdout",
     "output_type": "stream",
     "text": [
      "Esta e\n",
      "s la l\n"
     ]
    }
   ],
   "source": [
    "with open('files/data1.txt', 'r', encoding=\"utf-8\") as f:\n",
    "    line = f.read(6)\n",
    "    line2 = f.read(6)\n",
    "\n",
    "print(line)\n",
    "print(line2)"
   ]
  },
  {
   "cell_type": "markdown",
   "metadata": {
    "id": "Xh-gVShoHvNn"
   },
   "source": [
    "## Leer archivo línea por línea:\n",
    "\n",
    "Es posible leer un archivo línea por línea utilizando ```readline()```"
   ]
  },
  {
   "cell_type": "code",
   "execution_count": null,
   "metadata": {
    "id": "l6Wdki5fHvNo",
    "outputId": "c1344ff8-e518-421b-a8f7-afe137e06bd4"
   },
   "outputs": [
    {
     "name": "stdout",
     "output_type": "stream",
     "text": [
      "Esta es la línea 1: abcabcabc\n"
     ]
    }
   ],
   "source": [
    "with open('files/data1.txt', 'r', encoding=\"utf-8\") as f:\n",
    "    line = f.readline()\n",
    "    line2 = f.readline()\n",
    "print(line, end='')\n"
   ]
  },
  {
   "cell_type": "code",
   "execution_count": null,
   "metadata": {
    "id": "2SeI5IaBHvNt",
    "outputId": "79e8c57f-3fe8-4103-e1ed-b2fd19ccc360"
   },
   "outputs": [
    {
     "name": "stdout",
     "output_type": "stream",
     "text": [
      "Nombre del archivo:  files/data1.txt\n",
      "Esta es la línea 1: abcabcabc\n",
      "\n"
     ]
    }
   ],
   "source": [
    "with open(\"files/data1.txt\", \"r\", encoding='utf-8') as f:\n",
    "     print(\"Nombre del archivo: \", f.name)\n",
    "     line = f.readline()\n",
    "     print(line)"
   ]
  },
  {
   "cell_type": "markdown",
   "metadata": {
    "id": "1XyikEDmHvNz"
   },
   "source": [
    "## Cargar las líneas de un archivo como una lista\n",
    "\n",
    "Es posible cargar todas las lineas del archivo como una lista si se utiliza:"
   ]
  },
  {
   "cell_type": "code",
   "execution_count": null,
   "metadata": {
    "id": "pA2t27X7HvN2",
    "outputId": "3d161cb8-a2e1-44a3-81e6-2656322a229f"
   },
   "outputs": [
    {
     "name": "stdout",
     "output_type": "stream",
     "text": [
      "Nombre del archivo:  files/data1.txt\n",
      "['Esta es la línea 1: abcabcabc\\n', 'Esta es la línea 2: abcabcabc\\n', 'Esta es la línea 3: abcabcabc']\n"
     ]
    }
   ],
   "source": [
    "with open(\"files/data1.txt\", \"r\", encoding='utf-8') as f:\n",
    "     print(\"Nombre del archivo: \", f.name)\n",
    "     lista = f.readlines()\n",
    "print(lista)"
   ]
  },
  {
   "cell_type": "markdown",
   "metadata": {
    "id": "XkCL5lIVHvN8"
   },
   "source": [
    "## La forma más eficiente de procesar un archivo\n",
    "\n",
    "La forma más sencilla y eficiente de abrir y procesar un archivo de texto es: "
   ]
  },
  {
   "cell_type": "code",
   "execution_count": null,
   "metadata": {
    "id": "bAtn4knWHvN8",
    "outputId": "0461207a-ca4f-4231-f757-6673248c8bf8"
   },
   "outputs": [
    {
     "name": "stdout",
     "output_type": "stream",
     "text": [
      "Esta es la línea 1: abcabcabc\n",
      "Esta es la línea 2: abcabcabc\n",
      "Esta es la línea 3: abcabcabc"
     ]
    }
   ],
   "source": [
    "with open(\"files/data1.txt\", \"r\", encoding='utf-8') as work_data:\n",
    "    for line in work_data:\n",
    "        print(line, end='')"
   ]
  },
  {
   "cell_type": "markdown",
   "metadata": {
    "id": "qHOdYTAhHvOD"
   },
   "source": [
    "La anterior es la mejor forma de procesar archivos. Pues nunca carga el contenido del archivo completo si no por partes. "
   ]
  },
  {
   "cell_type": "markdown",
   "metadata": {
    "id": "RZYcWLpVHvOE"
   },
   "source": [
    "## Ejercicio 1\n",
    "\n",
    "Dado el archivo de texto ```files/SalesJan2009.csv```, procese el archivo para obtener las compras realizadas en un país dado:\n"
   ]
  },
  {
   "cell_type": "code",
   "execution_count": 132,
   "metadata": {
    "id": "ztxTfy5EHvOE",
    "outputId": "30c4c1a7-b33a-416c-d96a-732115fe16b5",
    "scrolled": true
   },
   "outputs": [
    {
     "name": "stdout",
     "output_type": "stream",
     "text": [
      "United Kingdom\n",
      "100\n"
     ]
    }
   ],
   "source": [
    "from pprint import pprint\n",
    "with open(\"files/SalesJan2009.csv\", \"r\", encoding='utf-8') as file_data:\n",
    "    dic = {}\n",
    "    numero = 0\n",
    "    for line in file_data:\n",
    "        dic[numero] = line.split(\",\")\n",
    "        numero += 1\n",
    "    country = input()\n",
    "    x = 0\n",
    "    for linea in dic:\n",
    "        if dic[linea][7] == country:\n",
    "            x = x + 1\n",
    "\n",
    "    print(x)\n",
    "    \n",
    "\n",
    "#Transactiondate, Product, Price, PaymentType, Name, City, State, Country, AccountCreated, LastLogins, Latitude, Longitude\n"
   ]
  },
  {
   "cell_type": "markdown",
   "metadata": {
    "id": "R2suiEG1HvOM"
   },
   "source": [
    "<table>\n",
    "    <tr>\n",
    "        <td>Input</td><td>Output</td>\n",
    "    </tr>\n",
    "    <tr>\n",
    "        <td>United Kingdom</td><td>100</td>\n",
    "    </tr>\n",
    " </table>"
   ]
  },
  {
   "cell_type": "markdown",
   "metadata": {
    "id": "roK8jaYtHvOM"
   },
   "source": [
    "##  Ejercicio 2\n",
    "\n",
    "Dado el archivo de texto files/SalesJan2009.csv, procese el archivo para obtener las compras realizadas con un medio de pago dado:\n",
    "\n",
    "<table>\n",
    "    <tr>\n",
    "        <td>Input</td><td>Output</td>\n",
    "    </tr>\n",
    "    <tr>\n",
    "        <td>Visa</td><td>521</td>\n",
    "    </tr>\n",
    " </table>"
   ]
  },
  {
   "cell_type": "code",
   "execution_count": 135,
   "metadata": {},
   "outputs": [
    {
     "name": "stdout",
     "output_type": "stream",
     "text": [
      "Visa\n",
      "521\n"
     ]
    }
   ],
   "source": [
    "from pprint import pprint\n",
    "with open(\"files/SalesJan2009.csv\", \"r\", encoding='utf-8') as file_data:\n",
    "    dic = {}\n",
    "    numero = 0\n",
    "    for line in file_data:\n",
    "        dic[numero] = line.split(\",\")\n",
    "        numero += 1\n",
    "    medio = input()\n",
    "    x = 0\n",
    "    for linea in dic:\n",
    "        if dic[linea][3] == medio:\n",
    "            x = x + 1\n",
    "\n",
    "    print(x)\n",
    "    "
   ]
  },
  {
   "cell_type": "markdown",
   "metadata": {
    "id": "HTmVGb99HvON"
   },
   "source": [
    "## Escritura de archivos\n",
    "\n",
    "A menudo se prefiere utilizar ```a+``` como el modo de apertura para escribir un archivo porque permite añadir datos al final del mismo. Utilizar ```w+``` borrará cualquier dato que existe en el archivo y pues producirá un archivo en límpio para trabajar.\n",
    "\n",
    "El método por defecto para añadir datos en un archivo es ```write```:\n"
   ]
  },
  {
   "cell_type": "code",
   "execution_count": 136,
   "metadata": {
    "id": "L95tgOsCHvON"
   },
   "outputs": [],
   "source": [
    "with open(\"files/data2.txt\", \"a+\", encoding='utf-8') as work_data:\n",
    "    work_data.write(\"\\nEsta es la línea 4: abcabcabc\")"
   ]
  },
  {
   "cell_type": "code",
   "execution_count": 137,
   "metadata": {
    "id": "GUpDx5G-HvOV",
    "outputId": "5c05e141-b3e1-4762-e400-09288b998721"
   },
   "outputs": [
    {
     "name": "stdout",
     "output_type": "stream",
     "text": [
      "Esta es la línea 1: abcabcabc\n",
      "Esta es la línea 2: abcabcabc\n",
      "Esta es la línea 3: abcabcabc\n",
      "\n",
      "Esta es la línea 4: abcabcabc\n",
      "\n",
      "Esta es la línea 4: abcabcabc\n",
      "Esta es la línea 4: abcabcabc"
     ]
    }
   ],
   "source": [
    "with open(\"files/data2.txt\", \"r\", encoding='utf-8') as work_data:\n",
    "    for line in work_data:\n",
    "        print(line, end='')"
   ]
  },
  {
   "cell_type": "markdown",
   "metadata": {
    "id": "zQYMZCmIHvOa"
   },
   "source": [
    "## Escribir datos que no son de texto en un archivo\n",
    "\n",
    "Si se desean escribir datos que no son cadenas de texto en un archivo es necesario convertir cada dato a string."
   ]
  },
  {
   "cell_type": "code",
   "execution_count": 138,
   "metadata": {
    "id": "idj9NqiQHvOc"
   },
   "outputs": [],
   "source": [
    "values = [1234, 5678, 9012]\n",
    "\n",
    "with open(\"files/data3.txt\", \"w+\") as work_data:\n",
    "    for value in values:\n",
    "        str_value = str(value)\n",
    "        work_data.write(str_value)\n",
    "        work_data.write(\"\\n\")"
   ]
  },
  {
   "cell_type": "code",
   "execution_count": 139,
   "metadata": {
    "id": "5_WW7f5iHvOf",
    "outputId": "95c5e2aa-c1b6-438e-b9ee-c20f40a9a954"
   },
   "outputs": [
    {
     "name": "stdout",
     "output_type": "stream",
     "text": [
      "1234\n",
      "5678\n",
      "9012\n"
     ]
    }
   ],
   "source": [
    "with open(\"files/data3.txt\", \"r\", encoding='utf-8') as work_data:\n",
    "    for line in work_data:\n",
    "        print(line, end='')"
   ]
  },
  {
   "cell_type": "markdown",
   "metadata": {
    "id": "cKu4Xxw_HvOm"
   },
   "source": [
    "## Seek: moviendo el puntero de lectura y escritura\n",
    " \n",
    "A veces es necesario moverse al principio del archivo o a alguna posición específica en un archivo dado. La forma más fácil de hacerlo es es utilizar ```fileobject.seek(offset, from_what)```.\n",
    "\n",
    "```offset``` es el número de caracteres desde la posición ```from_what```.\n",
    "\n",
    "Hay algunos valores por defecto para la posición ```from_what```:\n",
    "\n",
    "* 0 – Al principio del archivo\n",
    "* 1 – posición actual\n",
    "* 2 – al final del archivo\n",
    "\n",
    "Con archivos de texto 0 ó seek(0, 2), lo llevarán al final del archivo."
   ]
  },
  {
   "cell_type": "code",
   "execution_count": null,
   "metadata": {
    "id": "voUDxZO-HvOn",
    "outputId": "dd93a13b-e077-476b-edf7-75ec707f1c67"
   },
   "outputs": [
    {
     "name": "stdout",
     "output_type": "stream",
     "text": [
      "letras\n",
      "1234\n",
      "5678\n"
     ]
    }
   ],
   "source": [
    "with open(\"files/data4.txt\", \"r\", encoding='utf-8') as work_data:\n",
    "    work_data.seek(11,0)\n",
    "    for line in work_data:\n",
    "        print(line, end='')"
   ]
  },
  {
   "cell_type": "markdown",
   "metadata": {
    "id": "rcy5REMoHvOr"
   },
   "source": [
    "## Determinar tamaño de un archivo en bytes \n",
    "\n",
    "Para obtener la longitud de un archivo o la posición en donde se encuentra en un archivo se puede usar ```fileobject.tell()```. Para determinar el tamaño de un archivo en bytes se puede utilizar:"
   ]
  },
  {
   "cell_type": "code",
   "execution_count": null,
   "metadata": {
    "id": "tSLWyS8cHvOs",
    "outputId": "352d18b2-98bf-47cb-8fbf-486166ac6ae3",
    "scrolled": true
   },
   "outputs": [
    {
     "name": "stdout",
     "output_type": "stream",
     "text": [
      "31\n"
     ]
    }
   ],
   "source": [
    "with open(\"files/data4.txt\", \"a+\") as work_data:\n",
    "    print(work_data.tell())"
   ]
  },
  {
   "cell_type": "markdown",
   "metadata": {
    "id": "Y7g288viHvOy"
   },
   "source": [
    "## Editando un archivo de python\n",
    "\n",
    "La forma más facil de editar un archivo dado es guardar el archivo entero en una lista y utilizar list.insert(i, x) para insertar los datos nuevos. Una vez creada la lista se puede unir (join) de nuevo y escribir esto en el archivo."
   ]
  },
  {
   "cell_type": "code",
   "execution_count": null,
   "metadata": {
    "id": "gfsZUcFYHvOz"
   },
   "outputs": [],
   "source": [
    "# Open the file as read-only\n",
    "with open(\"files/data5.txt\", \"r\", encoding='utf-8') as f:\n",
    "    list_content = f.readlines()\n",
    "\n",
    "#print(list_content)\n",
    "    \n",
    "list_content.insert(1, \"Esta es la línea 1.5 jajajaj\\n\")\n",
    "\n",
    "# Re-open in write-only format to overwrite old file\n",
    "with open(\"files/data5.txt\", \"w\", encoding='utf-8') as f:\n",
    "    contenido = \"\".join(list_content)\n",
    "    f.write(contenido)"
   ]
  },
  {
   "cell_type": "code",
   "execution_count": null,
   "metadata": {
    "id": "0D5Huc-aHvO4",
    "outputId": "918a4227-1e4d-4bcd-f208-1130af91d7ca"
   },
   "outputs": [
    {
     "name": "stdout",
     "output_type": "stream",
     "text": [
      "Esta es la línea 1: abcabcabc\n",
      "\n",
      "Esta es la línea 1.5 jajajaj\n",
      "\n",
      "Esta es la línea 1.5 jajajaj\n",
      "\n",
      "Esta es la línea 1.5 jajajaj\n",
      "\n",
      "Esta es la línea 2: abcabcabc\n",
      "\n",
      "Esta es la línea 3: abcabcabc\n",
      "\n"
     ]
    }
   ],
   "source": [
    "with open(\"files/data5.txt\", \"r\", encoding='utf-8') as work_data:\n",
    "    for line in work_data:\n",
    "        print(line)"
   ]
  },
  {
   "cell_type": "markdown",
   "metadata": {
    "id": "zoIkdQkKHvO_"
   },
   "source": [
    "## Listando archivos y directorios:\n",
    "\n",
    "En las versiones modernas de python una alternativa a ```os.listdir()``` es utilizar ```os.scandir()``` (desde python 3.5) y ```pathlib.Path()```. \n"
   ]
  },
  {
   "cell_type": "code",
   "execution_count": null,
   "metadata": {
    "id": "hl89IH1HHvO_",
    "outputId": "4794b93b-7d7c-43f4-9668-efcede9a069c",
    "scrolled": true
   },
   "outputs": [
    {
     "name": "stdout",
     "output_type": "stream",
     "text": [
      "alternancia.txt, es directorio: False, size: 12549 bytes.\n",
      "data.txt, es directorio: False, size: 14 bytes.\n",
      "data1.txt, es directorio: False, size: 94 bytes.\n",
      "data2.txt, es directorio: False, size: 224 bytes.\n",
      "data3.txt, es directorio: False, size: 18 bytes.\n",
      "data4.txt, es directorio: False, size: 31 bytes.\n",
      "data5.txt, es directorio: False, size: 189 bytes.\n",
      "names.txt, es directorio: False, size: 220 bytes.\n",
      "programming_powers.pkl, es directorio: False, size: 154 bytes.\n",
      "python_es.txt, es directorio: False, size: 33754 bytes.\n",
      "SalesJan2009.csv, es directorio: False, size: 130480 bytes.\n",
      "testdir, es directorio: True, size: 0 bytes.\n",
      "wdata.txt, es directorio: False, size: 153 bytes.\n"
     ]
    }
   ],
   "source": [
    "import os\n",
    "entries = os.scandir('files/')\n",
    "\n",
    "for entry in entries:\n",
    "    print(entry.name + ', es directorio: ' + str(entry.is_dir()) + ', size: ' + str(entry.stat().st_size)\n",
    "         + ' bytes.')"
   ]
  },
  {
   "cell_type": "markdown",
   "metadata": {
    "id": "z8orAdLxHvPI"
   },
   "source": [
    "## Guardar Estructuras de Datos en archivos: Pickling\n",
    "\n",
    "A veces se desea almacenar información compleja tales como la información que contiene un diccionario ó una lista. Aquí es donde podemos utilizar el módulo ```pickle``` de python para serializar objetos."
   ]
  },
  {
   "cell_type": "code",
   "execution_count": 140,
   "metadata": {
    "id": "wKSQNQ0SHvPJ"
   },
   "outputs": [],
   "source": [
    "import pickle\n",
    "\n",
    "name = [\"mohit\",\"bhaskar\", \"manish\"]\n",
    "skill = [\"Python\", \"Python\", \"Java\"]\n",
    "dict1 = dict([(k,v) for k,v in zip(name, skill)])\n",
    "\n",
    "with open(\"files/programming_powers.pkl\", \"wb\") as pickle_file:\n",
    "    pickle.dump(name, pickle_file)\n",
    "    pickle.dump(skill,pickle_file)\n",
    "    pickle.dump(dict1,pickle_file)"
   ]
  },
  {
   "cell_type": "markdown",
   "metadata": {
    "id": "TjpbHfsEHvPN"
   },
   "source": [
    "## Cargar una estructura de datos de un archivo: Unpickling\n",
    "\n",
    "Para obtener los datos de vuelta es posible hacer lo siguiente:"
   ]
  },
  {
   "cell_type": "code",
   "execution_count": null,
   "metadata": {
    "id": "6-cmUHC4HvPO",
    "outputId": "1f7fe5bc-8fd3-4bd3-b61a-4ecfde797db3"
   },
   "outputs": [
    {
     "name": "stdout",
     "output_type": "stream",
     "text": [
      "['mohit', 'bhaskar', 'manish']\n",
      "['Python', 'Python', 'Java']\n",
      "{'mohit': 'Python', 'bhaskar': 'Python', 'manish': 'Java'}\n"
     ]
    }
   ],
   "source": [
    "import pickle\n",
    "\n",
    "with open(\"files/programming_powers.pkl\", \"rb\") as pickle_file:\n",
    "    list1 = pickle.load(pickle_file)\n",
    "    list2 = pickle.load(pickle_file)\n",
    "    dict1 = pickle.load(pickle_file)\n",
    "print(list1)\n",
    "print(list2)\n",
    "print(dict1)"
   ]
  },
  {
   "cell_type": "markdown",
   "metadata": {
    "id": "FdCyLN9rHvPU"
   },
   "source": [
    "Pickle obtiene los datos de forma secuencial. "
   ]
  },
  {
   "cell_type": "markdown",
   "metadata": {
    "id": "ByHnYt7wHvPV"
   },
   "source": [
    "## Copiar una imagen\n",
    "\n",
    "Una imagen de tipo jpg es un archivo de tipo binario. Con cierto procesamiento es posible crear una copia del archivo:"
   ]
  },
  {
   "cell_type": "code",
   "execution_count": null,
   "metadata": {
    "id": "MGoKc1syHvPV"
   },
   "outputs": [],
   "source": [
    "with open(\"files/discurso.jpg\", \"rb\") as imagen:\n",
    "    data = imagen.read()\n",
    "\n",
    "#print(data)\n",
    "    \n",
    "with open(\"files/copy.jpg\", \"wb\") as f:\n",
    "    f.write(data)"
   ]
  },
  {
   "cell_type": "markdown",
   "metadata": {
    "id": "ePrxo16sHvPY"
   },
   "source": [
    "## 12. Manejo de excepciones en python\n",
    "\n",
    "Programar el decirle al computador que haga lo que uno necesita que éste haga. Para esto se utilizan librerías y operaciones preexistentes o se escribe código nuevo.\n",
    "\n",
    "Dependiendo del problema pueden presentarse situaciones excepcionales que incluyen valores de entrada no válidos o situaciones que afectan el flujo ideal del programa interrumpiendo su ejecución.\n",
    "\n",
    "Es posible detectar esos errores en tiempo de ejecución y tratarlos mediante el manejo de excepciones.\n",
    "\n",
    "Se tiene el siguiente código que divide dos números enteros:"
   ]
  },
  {
   "cell_type": "code",
   "execution_count": 142,
   "metadata": {
    "id": "vS5R1HLQHvPZ",
    "outputId": "86fc8bfd-d105-4c24-bbc4-e515cd6bc83c",
    "scrolled": true
   },
   "outputs": [
    {
     "ename": "ZeroDivisionError",
     "evalue": "integer division or modulo by zero",
     "output_type": "error",
     "traceback": [
      "\u001b[1;31m---------------------------------------------------------------------------\u001b[0m",
      "\u001b[1;31mZeroDivisionError\u001b[0m                         Traceback (most recent call last)",
      "\u001b[1;32m<ipython-input-142-e3a0fa79a15c>\u001b[0m in \u001b[0;36m<module>\u001b[1;34m\u001b[0m\n\u001b[0;32m      6\u001b[0m \u001b[0mdivision\u001b[0m\u001b[1;33m(\u001b[0m\u001b[1;36m4\u001b[0m\u001b[1;33m,\u001b[0m\u001b[1;36m5\u001b[0m\u001b[1;33m)\u001b[0m\u001b[1;33m\u001b[0m\u001b[1;33m\u001b[0m\u001b[0m\n\u001b[0;32m      7\u001b[0m \u001b[1;33m\u001b[0m\u001b[0m\n\u001b[1;32m----> 8\u001b[1;33m \u001b[0mprint\u001b[0m\u001b[1;33m(\u001b[0m\u001b[0mdivision\u001b[0m\u001b[1;33m(\u001b[0m\u001b[1;36m10\u001b[0m\u001b[1;33m,\u001b[0m \u001b[1;36m0\u001b[0m\u001b[1;33m)\u001b[0m\u001b[1;33m)\u001b[0m\u001b[1;33m\u001b[0m\u001b[1;33m\u001b[0m\u001b[0m\n\u001b[0m\u001b[0;32m      9\u001b[0m \u001b[0mprint\u001b[0m\u001b[1;33m(\u001b[0m\u001b[0mdivision\u001b[0m\u001b[1;33m(\u001b[0m\u001b[1;36m1024\u001b[0m\u001b[1;33m,\u001b[0m\u001b[1;36m10\u001b[0m\u001b[1;33m)\u001b[0m\u001b[1;33m)\u001b[0m\u001b[1;33m\u001b[0m\u001b[1;33m\u001b[0m\u001b[0m\n",
      "\u001b[1;32m<ipython-input-142-e3a0fa79a15c>\u001b[0m in \u001b[0;36mdivision\u001b[1;34m(a, b)\u001b[0m\n\u001b[0;32m      1\u001b[0m \u001b[1;32mdef\u001b[0m \u001b[0mdivision\u001b[0m\u001b[1;33m(\u001b[0m\u001b[0ma\u001b[0m\u001b[1;33m,\u001b[0m \u001b[0mb\u001b[0m\u001b[1;33m)\u001b[0m\u001b[1;33m:\u001b[0m\u001b[1;33m\u001b[0m\u001b[1;33m\u001b[0m\u001b[0m\n\u001b[1;32m----> 2\u001b[1;33m     \u001b[0mcoc\u001b[0m \u001b[1;33m=\u001b[0m \u001b[0ma\u001b[0m \u001b[1;33m//\u001b[0m \u001b[0mb\u001b[0m\u001b[1;33m\u001b[0m\u001b[1;33m\u001b[0m\u001b[0m\n\u001b[0m\u001b[0;32m      3\u001b[0m     \u001b[0mres\u001b[0m \u001b[1;33m=\u001b[0m \u001b[0ma\u001b[0m \u001b[1;33m%\u001b[0m \u001b[0mb\u001b[0m\u001b[1;33m\u001b[0m\u001b[1;33m\u001b[0m\u001b[0m\n\u001b[0;32m      4\u001b[0m     \u001b[1;32mreturn\u001b[0m \u001b[1;33m(\u001b[0m\u001b[0mcoc\u001b[0m\u001b[1;33m,\u001b[0m \u001b[0mres\u001b[0m\u001b[1;33m)\u001b[0m\u001b[1;33m\u001b[0m\u001b[1;33m\u001b[0m\u001b[0m\n\u001b[0;32m      5\u001b[0m \u001b[1;33m\u001b[0m\u001b[0m\n",
      "\u001b[1;31mZeroDivisionError\u001b[0m: integer division or modulo by zero"
     ]
    }
   ],
   "source": [
    "def division(a, b):\n",
    "    coc = a // b\n",
    "    res = a % b\n",
    "    return (coc, res)\n",
    "\n",
    "division(4,5)\n",
    "\n",
    "print(division(10, 0))\n",
    "print(division(1024,10))"
   ]
  },
  {
   "cell_type": "markdown",
   "metadata": {
    "id": "gfTnDYi0HvPc"
   },
   "source": [
    "Este error puede ser tratado como se muestra a continuación:\n"
   ]
  },
  {
   "cell_type": "code",
   "execution_count": 143,
   "metadata": {
    "id": "7Sv7wA-9HvPc"
   },
   "outputs": [],
   "source": [
    "def division(a, b):\n",
    "    try:\n",
    "        coc = a//b\n",
    "        res = a % b\n",
    "        return (coc, res)\n",
    "    except:\n",
    "        print(f'Error en la división de {a} entre {b}')\n",
    "        return ''"
   ]
  },
  {
   "cell_type": "markdown",
   "metadata": {
    "id": "Nr4RlLVAHvPf"
   },
   "source": [
    "Una situación alterna no esperada puede ser la siguiente:"
   ]
  },
  {
   "cell_type": "code",
   "execution_count": 144,
   "metadata": {
    "id": "rhg07r6IHvPg",
    "outputId": "e64c2763-b32b-40c0-c37d-1c5dc189ee7f"
   },
   "outputs": [
    {
     "name": "stdout",
     "output_type": "stream",
     "text": [
      "Error en la división de 10 entre 0\n",
      "\n"
     ]
    }
   ],
   "source": [
    "print(division(10, 0))\n"
   ]
  },
  {
   "cell_type": "code",
   "execution_count": 145,
   "metadata": {
    "id": "YfDJIVf_HvPm",
    "outputId": "ce82e5cf-7503-4cc2-b136-cdc72c4164cc"
   },
   "outputs": [
    {
     "name": "stdout",
     "output_type": "stream",
     "text": [
      "(102, 4)\n"
     ]
    }
   ],
   "source": [
    "print(division(1024,10))"
   ]
  },
  {
   "cell_type": "markdown",
   "metadata": {
    "id": "dzLkkrg1HvPr"
   },
   "source": [
    "## Sintaxis de las excepciones\n",
    "\n",
    "Una sintaxis más completa es la siguiente:\n",
    "\n",
    "```\n",
    "   try:\n",
    "       aquí van las operaciones\n",
    "   except Exception_name:\n",
    "       aquí se ejecuta esa suite si sucedió la excepción Exception_name\n",
    "   except Exception_name2:\n",
    "       aquí se ejecuta esa suite si sucedió la excepción 2\n",
    "   else:\n",
    "       si no hay excepción se ejecuta esta suite\n",
    "```\n",
    "       "
   ]
  },
  {
   "cell_type": "markdown",
   "metadata": {
    "id": "h16-FLZCHvPt"
   },
   "source": [
    "## Excepciones cuando se digita texto en vez de un número\n",
    "\n",
    "Otra situación que puede ocurrir con la división pueden digitar texto en vez de numeros"
   ]
  },
  {
   "cell_type": "code",
   "execution_count": null,
   "metadata": {
    "id": "PL5gYLm5HvPt",
    "outputId": "f22f35d8-f90e-4bf5-8dd5-1a1ef1de8cb6"
   },
   "outputs": [
    {
     "name": "stdout",
     "output_type": "stream",
     "text": [
      "digite el dividendo: hola\n"
     ]
    },
    {
     "ename": "ValueError",
     "evalue": "invalid literal for int() with base 10: 'hola'",
     "output_type": "error",
     "traceback": [
      "\u001b[1;31m---------------------------------------------------------------------------\u001b[0m",
      "\u001b[1;31mValueError\u001b[0m                                Traceback (most recent call last)",
      "\u001b[1;32m<ipython-input-33-e4c231c802f0>\u001b[0m in \u001b[0;36m<module>\u001b[1;34m\u001b[0m\n\u001b[0;32m     13\u001b[0m     \u001b[0mprint\u001b[0m\u001b[1;33m(\u001b[0m\u001b[0mdivision\u001b[0m\u001b[1;33m(\u001b[0m\u001b[0mnum\u001b[0m\u001b[1;33m,\u001b[0m \u001b[0mdiv\u001b[0m\u001b[1;33m)\u001b[0m\u001b[1;33m)\u001b[0m\u001b[1;33m\u001b[0m\u001b[1;33m\u001b[0m\u001b[0m\n\u001b[0;32m     14\u001b[0m \u001b[1;33m\u001b[0m\u001b[0m\n\u001b[1;32m---> 15\u001b[1;33m \u001b[0mmain\u001b[0m\u001b[1;33m(\u001b[0m\u001b[1;33m)\u001b[0m \u001b[1;31m#posibles errores incluyen digitar texto en num o div, o definir div = 0\u001b[0m\u001b[1;33m\u001b[0m\u001b[1;33m\u001b[0m\u001b[0m\n\u001b[0m",
      "\u001b[1;32m<ipython-input-33-e4c231c802f0>\u001b[0m in \u001b[0;36mmain\u001b[1;34m()\u001b[0m\n\u001b[0;32m      9\u001b[0m \u001b[1;33m\u001b[0m\u001b[0m\n\u001b[0;32m     10\u001b[0m \u001b[1;32mdef\u001b[0m \u001b[0mmain\u001b[0m\u001b[1;33m(\u001b[0m\u001b[1;33m)\u001b[0m\u001b[1;33m:\u001b[0m\u001b[1;33m\u001b[0m\u001b[1;33m\u001b[0m\u001b[0m\n\u001b[1;32m---> 11\u001b[1;33m     \u001b[0mnum\u001b[0m \u001b[1;33m=\u001b[0m \u001b[0mint\u001b[0m\u001b[1;33m(\u001b[0m\u001b[0minput\u001b[0m\u001b[1;33m(\u001b[0m\u001b[1;34m'digite el dividendo: '\u001b[0m\u001b[1;33m)\u001b[0m\u001b[1;33m)\u001b[0m\u001b[1;33m\u001b[0m\u001b[1;33m\u001b[0m\u001b[0m\n\u001b[0m\u001b[0;32m     12\u001b[0m     \u001b[0mdiv\u001b[0m \u001b[1;33m=\u001b[0m \u001b[0mint\u001b[0m\u001b[1;33m(\u001b[0m\u001b[0minput\u001b[0m\u001b[1;33m(\u001b[0m\u001b[1;34m'digite el divisor: '\u001b[0m\u001b[1;33m)\u001b[0m\u001b[1;33m)\u001b[0m\u001b[1;33m\u001b[0m\u001b[1;33m\u001b[0m\u001b[0m\n\u001b[0;32m     13\u001b[0m     \u001b[0mprint\u001b[0m\u001b[1;33m(\u001b[0m\u001b[0mdivision\u001b[0m\u001b[1;33m(\u001b[0m\u001b[0mnum\u001b[0m\u001b[1;33m,\u001b[0m \u001b[0mdiv\u001b[0m\u001b[1;33m)\u001b[0m\u001b[1;33m)\u001b[0m\u001b[1;33m\u001b[0m\u001b[1;33m\u001b[0m\u001b[0m\n",
      "\u001b[1;31mValueError\u001b[0m: invalid literal for int() with base 10: 'hola'"
     ]
    }
   ],
   "source": [
    "def division(a, b):\n",
    "    try:\n",
    "        coc = a//b\n",
    "        res = a % b\n",
    "        return (coc, res)\n",
    "    except:\n",
    "        print('Error en la división de {} entre {}'.format(a, b))\n",
    "\n",
    "\n",
    "def main():\n",
    "    num = int(input('digite el dividendo: '))\n",
    "    div = int(input('digite el divisor: '))\n",
    "    print(division(num, div))\n",
    "\n",
    "main() #posibles errores incluyen digitar texto en num o div, o definir div = 0\n"
   ]
  },
  {
   "cell_type": "markdown",
   "metadata": {
    "id": "-NAXoTlBHvPx"
   },
   "source": [
    "Esto se puede tratar capturando la excepción `ValueError`"
   ]
  },
  {
   "cell_type": "code",
   "execution_count": 146,
   "metadata": {
    "id": "VoXD-GfZHvPx",
    "outputId": "2aaf2ddb-363a-4afb-a9d2-818507ae8afe"
   },
   "outputs": [
    {
     "name": "stdout",
     "output_type": "stream",
     "text": [
      "digite el dividendo: 2\n",
      "digite el divisor: 1\n",
      "(2, 0)\n"
     ]
    }
   ],
   "source": [
    "def division(a, b):\n",
    "    try:\n",
    "        coc = a//b\n",
    "        res = a % b\n",
    "        return (coc, res)\n",
    "    except ZeroDivisionError:\n",
    "        print('La división por cero no está definida.')\n",
    "        return ''\n",
    "\n",
    "\n",
    "def main():\n",
    "    try:\n",
    "        num = int(input('digite el dividendo: '))\n",
    "        div = int(input('digite el divisor: '))\n",
    "        print(division(num, div))\n",
    "    except ValueError:\n",
    "        print('El valor digitado no es entero.')\n",
    "\n",
    "main()"
   ]
  },
  {
   "cell_type": "markdown",
   "metadata": {
    "id": "LmJcRKCZHvP3"
   },
   "source": [
    "## El bloque finally\n",
    "\n",
    "Se especifica el bloque Finally para determinar acciones que se deben ejecutar sin importar si se produce una excepción o no\n",
    "\n",
    "```\n",
    "try:\n",
    "    #run this action first\n",
    "except:\n",
    "    # Run if exception occurs\n",
    "Finally :\n",
    "    #Always run this code\n",
    "```\n",
    "\n",
    "El orden de ejecución de las excepciones es el siguiente:\n",
    "\n",
    "```try -> except -> else -> finally```\n",
    "\n"
   ]
  },
  {
   "cell_type": "markdown",
   "metadata": {
    "id": "BfOfnebPHvP3"
   },
   "source": [
    "## Ejemplo"
   ]
  },
  {
   "cell_type": "code",
   "execution_count": null,
   "metadata": {
    "id": "uyc7DVUUHvP4",
    "outputId": "72dd663e-5023-476e-83ca-a1519c5c1641"
   },
   "outputs": [
    {
     "name": "stdout",
     "output_type": "stream",
     "text": [
      "Enter the number dfbg\n",
      "Something is wrong\n",
      "finally program ends\n"
     ]
    }
   ],
   "source": [
    "## Finally\n",
    "\n",
    "try:\n",
    "    num = int(input(\"Enter the number \"))\n",
    "    re = 100/num\n",
    "except:\n",
    "    print(\"Something is wrong\")\n",
    "else:\n",
    "    print (\"result is \",re)\n",
    "finally :\n",
    "    print (\"finally program ends\")\n"
   ]
  },
  {
   "cell_type": "markdown",
   "metadata": {
    "id": "GALA4oZcHvP6"
   },
   "source": [
    "## Capturar excepciones de varios tipos\n",
    "\n",
    "Como es tedioso determinar el tipo de excepción se puede utilizar una sóla línea de código:"
   ]
  },
  {
   "cell_type": "code",
   "execution_count": null,
   "metadata": {
    "id": "wE5O1A8AHvP7",
    "outputId": "fd957d27-34f4-46dd-97fc-a8af783b94aa"
   },
   "outputs": [
    {
     "name": "stdout",
     "output_type": "stream",
     "text": [
      "Enter the number hola\n",
      "invalid literal for int() with base 10: 'hola' <class 'ValueError'>\n"
     ]
    }
   ],
   "source": [
    "try:\n",
    "    num = int(input(\"Enter the number \"))\n",
    "    re = 100/num\n",
    "    print(re)\n",
    "except Exception as e:\n",
    "    print(e, type(e))\n"
   ]
  },
  {
   "cell_type": "markdown",
   "metadata": {
    "id": "gtHaPGP2HvP-"
   },
   "source": [
    "## Lanzar excepciones \n",
    "Es posible lanzar excepciones utilizando ```raise```:"
   ]
  },
  {
   "cell_type": "code",
   "execution_count": null,
   "metadata": {
    "id": "TbEQTVa0HvP_",
    "outputId": "000312e2-41aa-46e5-d7dc-6226826d9f26"
   },
   "outputs": [
    {
     "ename": "ValueError",
     "evalue": "error de división por cero",
     "output_type": "error",
     "traceback": [
      "\u001b[1;31m---------------------------------------------------------------------------\u001b[0m",
      "\u001b[1;31mValueError\u001b[0m                                Traceback (most recent call last)",
      "\u001b[1;32m<ipython-input-40-496f78253296>\u001b[0m in \u001b[0;36m<module>\u001b[1;34m\u001b[0m\n\u001b[1;32m----> 1\u001b[1;33m \u001b[1;32mraise\u001b[0m \u001b[0mValueError\u001b[0m\u001b[1;33m(\u001b[0m\u001b[1;34m'error de división por cero'\u001b[0m\u001b[1;33m)\u001b[0m\u001b[1;33m\u001b[0m\u001b[1;33m\u001b[0m\u001b[0m\n\u001b[0m",
      "\u001b[1;31mValueError\u001b[0m: error de división por cero"
     ]
    }
   ],
   "source": [
    "raise ValueError('error de división por cero')"
   ]
  },
  {
   "cell_type": "markdown",
   "metadata": {
    "id": "w1akDPNpHvQB"
   },
   "source": [
    "## Definiendo mis propias excepciones:\n",
    "\n",
    "Para definir nuestras propias excepciones es necesario crear una clase que hereda de la clase Exception. Por ahora puede verse el ejemplo siguiente como una plantilla pues no se han visto clases:\n"
   ]
  },
  {
   "cell_type": "code",
   "execution_count": null,
   "metadata": {
    "id": "hYSTUggCHvQC",
    "outputId": "f92f146c-0fe3-4942-ea6f-b3a43d584c99"
   },
   "outputs": [
    {
     "name": "stdout",
     "output_type": "stream",
     "text": [
      "2\n",
      "El usuario digitó 2 y no se puede! <class '__main__.NoPuedeDigitarDosException'>\n"
     ]
    }
   ],
   "source": [
    "class NoPuedeDigitarDosException(Exception):\n",
    "    def __init__(self, value):\n",
    "        self.value = value\n",
    "        \n",
    "    def __str__(self):\n",
    "        return self.value\n",
    "\n",
    "def main():\n",
    "    try:\n",
    "        num = int(input())\n",
    "        if num == 2:\n",
    "            raise NoPuedeDigitarDosException('El usuario digitó 2 y no se puede!')\n",
    "        else:\n",
    "            print('all is well it is not 2')\n",
    "    except Exception as e:\n",
    "        print(e, type(e))\n",
    "\n",
    "main()\n"
   ]
  },
  {
   "cell_type": "markdown",
   "metadata": {
    "id": "Or2hLtRkHvQH"
   },
   "source": [
    "\n",
    "## Ejercicio 1\n",
    "\n",
    "Dada la siguiente lista capture la excepción que evita que el usuario acceda a posiciones que no se encuentran definidas en la lista y muestre el mensaje ```Intenta acceder una posición que no está en el arreglo```:"
   ]
  },
  {
   "cell_type": "code",
   "execution_count": 150,
   "metadata": {
    "id": "qukz_jumHvQI",
    "outputId": "b8d126d8-5aed-4cab-de0f-e9bdc2fc2185"
   },
   "outputs": [
    {
     "name": "stdout",
     "output_type": "stream",
     "text": [
      "Intenta acceder una posición que no está en el arreglo\n"
     ]
    }
   ],
   "source": [
    "try:\n",
    "    lista = [1, 2, 3, 4]\n",
    "    lista[5]\n",
    "except:\n",
    "    print(\"Intenta acceder una posición que no está en el arreglo\")"
   ]
  },
  {
   "cell_type": "markdown",
   "metadata": {
    "id": "6oApfT0UHvQK"
   },
   "source": [
    "## Ejercicio 2\n",
    "\n",
    "En el siguiente programa capture la excepción para evitar que un programador sume una cadena de texto a un número y muestre el mensaje ```Los tipos de datos no cuadran para hacer la operación```: "
   ]
  },
  {
   "cell_type": "code",
   "execution_count": 151,
   "metadata": {
    "id": "SnQssnpwHvQL",
    "outputId": "744e429d-14d8-4ecc-f6d4-a5670174547a"
   },
   "outputs": [
    {
     "name": "stdout",
     "output_type": "stream",
     "text": [
      "2\n",
      "Los tipos de datos no cuadran para hacer la operación\n"
     ]
    }
   ],
   "source": [
    "def operar(a, b):\n",
    "    return a+b\n",
    "\n",
    "def main():\n",
    "    a = int(input())\n",
    "    b = 'hola'\n",
    "    try:\n",
    "        operar(a, b)\n",
    "    except:\n",
    "        print(\"Los tipos de datos no cuadran para hacer la operación\")\n",
    "        \n",
    "main()"
   ]
  },
  {
   "cell_type": "markdown",
   "metadata": {
    "id": "sdNmQO9tHvQO"
   },
   "source": [
    "## Ejercicio 3\n",
    "\n",
    "Capture la excepción que valide cuando se trata de obtener una llave que no se encuentra en un diccionario  y muestre el mensaje ```Intenta acceder una llave que no se encuentra en el diccionario```:\n",
    "\n"
   ]
  },
  {
   "cell_type": "code",
   "execution_count": null,
   "metadata": {
    "id": "rQNfSixpHvQP",
    "outputId": "173478e5-365c-4d79-a705-a284b31e1b27"
   },
   "outputs": [],
   "source": [
    "\n",
    "def main():\n",
    "    dict = {'James': 'Java', 'Dennis' : 'C', 'Das':'Python'}\n",
    "    try:\n",
    "        print(dict['Ada'])\n",
    "    except:\n",
    "        print(\"Intenta acceder una llave que no se encuentra en el diccionario\")\n",
    "    \n",
    "main()"
   ]
  },
  {
   "cell_type": "markdown",
   "metadata": {
    "id": "oxm1ydbXHvQT"
   },
   "source": [
    "## Ejercicio 4\n",
    "\n",
    "Defina una excepción para impedir que un usuario digite más de 20 caracteres cómo número de teléfono. Adicionalmente identifique flujos excepcionales en el programa y capture las excepciones que pueden ocurrir."
   ]
  },
  {
   "cell_type": "code",
   "execution_count": 2,
   "metadata": {
    "id": "oWQ46W6mHvQT",
    "outputId": "54b168dd-6bb4-4172-c9f1-185c937aa288"
   },
   "outputs": [
    {
     "name": "stdout",
     "output_type": "stream",
     "text": [
      "Digite el número de contactos:1\n",
      "Agregando 1 personas...\n",
      "Digite el nombre del contacto 1:Carlos\n",
      "Digite el número de contacto 1:10000000000000000000000000000000\n",
      "Debe contener menos de 20 caracteres el telefono\n",
      "Digite el número de contacto 1:2000\n",
      "Así va la agenda:{'Carlos': '2000'}\n"
     ]
    }
   ],
   "source": [
    "agenda = {}\n",
    "\n",
    "def process_numbers(person, number):\n",
    "    agenda[person] = number\n",
    "def main():\n",
    "    n = int(input('Digite el número de contactos:'))\n",
    "    print('Agregando ' + str(n) + ' personas...')\n",
    "    for i in range(n):\n",
    "        nombre = input('Digite el nombre del contacto {}:'.format(i+1))\n",
    "        bandera = True\n",
    "        while bandera == True:\n",
    "            try:\n",
    "                numero = input('Digite el número de contacto {}:'.format(i+1))\n",
    "                if len(numero) >= 20:\n",
    "                    raise ValueError(\"Tiene mas de 20\")\n",
    "                bandera = False\n",
    "            except:\n",
    "                print(\"Debe contener menos de 20 caracteres el telefono\")\n",
    "\n",
    "\n",
    "        process_numbers(nombre, numero)\n",
    "        print('Así va la agenda:' + str(agenda)) \n",
    "        \n",
    "\n",
    "main()\n",
    "\n",
    "\n",
    "    "
   ]
  },
  {
   "cell_type": "markdown",
   "metadata": {
    "id": "qsfWPfeAHvQX"
   },
   "source": [
    "## Referencias\n",
    "\n",
    "- Das, B. N. (2017). Learn Python in 7 Days. Packt Publishing Ltd.\n",
    "- https://support.spatialkey.com/spatialkey-sample-csv-data/\n",
    "- https://www.geeksforgeeks.org/with-statement-in-python/\n",
    "- https://stackoverflow.com/questions/40918503/how-to-read-a-utf-8-encoded-text-file-using-python/40918636\n",
    "- https://dbader.org/blog/python-file-io\n",
    "- https://docs.hektorprofe.net/python/errores-y-excepciones/ejercicios/"
   ]
  },
  {
   "cell_type": "code",
   "execution_count": null,
   "metadata": {
    "id": "yP3neN5sHvQY"
   },
   "outputs": [],
   "source": []
  }
 ],
 "metadata": {
  "colab": {
   "name": "15-Archivos y Excepciones.ipynb",
   "provenance": []
  },
  "kernelspec": {
   "display_name": "Python 3",
   "language": "python",
   "name": "python3"
  },
  "language_info": {
   "codemirror_mode": {
    "name": "ipython",
    "version": 3
   },
   "file_extension": ".py",
   "mimetype": "text/x-python",
   "name": "python",
   "nbconvert_exporter": "python",
   "pygments_lexer": "ipython3",
   "version": "3.8.3"
  }
 },
 "nbformat": 4,
 "nbformat_minor": 1
}
