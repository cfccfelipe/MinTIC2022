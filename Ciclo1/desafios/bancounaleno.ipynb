{
 "cells": [
  {
   "cell_type": "markdown",
   "metadata": {},
   "source": [
    "# Banco Unaleño (práctica)"
   ]
  },
  {
   "cell_type": "markdown",
   "metadata": {},
   "source": [
    "El banco unaleño requiere su ayuda para la implementación de cajeros electrónicos en ciudad Gótica. \n",
    "Gótica tiene billetes de $10.000, $20.000, $50.000 y $100.000.\n",
    "\n",
    "El banco desea emplear la menor cantidad de billetes posibles cuando un ciudadano realiza un retiro. \n",
    "El banco en otro desarrollo de software ya se aseguró de que la cantidad de dinero a retirar sea múltiplo de 10000.\n",
    "\n",
    "Entrada\n",
    "\n",
    "La entrada es un valor a retirar. Se garantiza que el valor a retirar es múltiplo de 10.000\n",
    "\n",
    "Salida\n",
    "\n",
    "El número de billetes a repartir de cada denominación en el formato mostrado en las ejecuciones de ejemplo:\n",
    "\n",
    "Ejemplo 1:\n",
    "\n",
    "Entrada\n",
    "\t\n",
    "\n",
    "Salida\n",
    "\n",
    "560000\n",
    "\t\n",
    "\n",
    "5 x $100000\n",
    "\n",
    "1 x $50000\n",
    "\n",
    "0 x 20000\n",
    "\n",
    "1 x $10000\n",
    "\n",
    "\n",
    "Ejemplo 2:\n",
    "\n",
    "Entrada\n",
    "\t\n",
    "\n",
    "Salida\n",
    "\n",
    "10000\n",
    "\t\n",
    "\n",
    "0 x $100000\n",
    "\n",
    "0 x $50000\n",
    "\n",
    "0 x $20000\n",
    "\n",
    "1 x $10000\n",
    "\n",
    "\n",
    "Ejemplo 3:\n",
    "\n",
    "Entrada\n",
    "\t\n",
    "\n",
    "Salida\n",
    "\n",
    "80000\n",
    "\t\n",
    "\n",
    "0 x $100000\n",
    "\n",
    "1 x $50000\n",
    "\n",
    "1 x $20000\n",
    "\n",
    "1 x $10000\n"
   ]
  },
  {
   "cell_type": "code",
   "execution_count": 6,
   "metadata": {
    "scrolled": true
   },
   "outputs": [
    {
     "name": "stdout",
     "output_type": "stream",
     "text": [
      "Hola, ¿Cúanto desea retirar?: 80000\n",
      "Su valor a retirar es: $80000\n"
     ]
    }
   ],
   "source": [
    "#Entrada\n",
    "vretirar = int(input(\"Hola, ¿Cúanto desea retirar?: \"))\n",
    "\n",
    "#Programa multiplos de $10.000\n",
    "r = vretirar % 10000\n",
    "if r != 0:\n",
    "    print(\"El valor a retirar debe ser multiplo de $10.000 \")\n",
    "else:\n",
    "    print(\"Su valor a retirar es: $\" + str(vretirar))"
   ]
  },
  {
   "cell_type": "code",
   "execution_count": 8,
   "metadata": {},
   "outputs": [
    {
     "name": "stdout",
     "output_type": "stream",
     "text": [
      "0 * $100000\n",
      "1 * $50000\n",
      "1 * $20000\n",
      "1 * $10000\n"
     ]
    }
   ],
   "source": [
    "#Programa para reducir la cantidad de billetes\n",
    "tipo1 = 10000\n",
    "tipo2 = 20000\n",
    "tipo3 = 50000\n",
    "tipo4 = 100000\n",
    "q = 0\n",
    "z = 0\n",
    "y = 0\n",
    "x = 0\n",
    "\n",
    "if vretirar < 100000:\n",
    "    z = vretirar // tipo3\n",
    "    y = (vretirar - tipo3 * z) // tipo2\n",
    "    x = (vretirar - tipo2 * y - tipo3 * z) //tipo1\n",
    "    print(str(q) + \" X $100000\")\n",
    "    print(str(z) + \" X $50000\")\n",
    "    print(str(y) + \" X $20000\")\n",
    "    print(str(x) + \" X $10000\")  \n",
    "    if vretirar < 50000:\n",
    "        y = vretirar // tipo2\n",
    "        x = (vretirar - tipo2 * y) //tipo1\n",
    "        print(str(q) + \" X $100000\")\n",
    "        print(str(z) + \" X $50000\")\n",
    "        print(str(y) + \" X $20000\")\n",
    "        print(str(x) + \" X $10000\")  \n",
    "        if vretirar < 20000:\n",
    "            x = vretirar // tipo1\n",
    "            print(str(q) + \" X $100000\")\n",
    "            print(str(z) + \" X $50000\")\n",
    "            print(str(y) + \" X $20000\")\n",
    "            print(str(x) + \" X $10000\")  \n",
    "else:\n",
    "    q = vretirar // tipo4\n",
    "    z = (vretirar - tipo4 * q) // tipo3\n",
    "    y = (vretirar - tipo3 * z - tipo4 * q) // tipo2\n",
    "    x = (vretirar - tipo2 * y - tipo3 * z - tipo4 * q) // tipo1\n",
    "    print(str(q) + \" X $100000\")\n",
    "    print(str(z) + \" X $50000\")\n",
    "    print(str(y) + \" X $20000\")\n",
    "    print(str(x) + \" X $10000\")  "
   ]
  },
  {
   "cell_type": "code",
   "execution_count": null,
   "metadata": {},
   "outputs": [],
   "source": [
    "valor_compra = float(input(\"digite el valor de la compra: \"))\n",
    "#crear la variable porcentaje descuento y leer el valor\n",
    "porcentaje = float(input(\"digite el % de descuento: (ejemplo 25)\"))\n",
    "descuento = valor_compra*(porcentaje/100) #hay un descuento del 10%\n",
    "valor_a_pagar = valor_compra - descuento\n",
    "print(\"El valor a pagar es: \" + str(valor_a_pagar))\n",
    "print('Tu ahorro fue de: ' + str(descuento))"
   ]
  },
  {
   "cell_type": "code",
   "execution_count": null,
   "metadata": {},
   "outputs": [],
   "source": [
    "from math import pi\n",
    "r = int(input(\"Cúal es el radio: \"))\n",
    "area = pi * r**2\n",
    "print (\"El área del circulo es \" + str(area))\n"
   ]
  },
  {
   "cell_type": "code",
   "execution_count": null,
   "metadata": {},
   "outputs": [],
   "source": [
    "b = int(input(\"Cúal es la base: \"))\n",
    "h = int(input(\"Cúal es la altura: \"))\n",
    "formula = b * h\n",
    "print (\"El área del rectangulo es \" + str(formula))"
   ]
  }
 ],
 "metadata": {
  "kernelspec": {
   "display_name": "Python 3",
   "language": "python",
   "name": "python3"
  },
  "language_info": {
   "codemirror_mode": {
    "name": "ipython",
    "version": 3
   },
   "file_extension": ".py",
   "mimetype": "text/x-python",
   "name": "python",
   "nbconvert_exporter": "python",
   "pygments_lexer": "ipython3",
   "version": "3.8.3"
  }
 },
 "nbformat": 4,
 "nbformat_minor": 4
}
