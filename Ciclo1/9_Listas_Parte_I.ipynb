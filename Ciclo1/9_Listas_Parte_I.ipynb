{
 "cells": [
  {
   "cell_type": "markdown",
   "metadata": {
    "id": "4BmvHMMIULS8"
   },
   "source": [
    "## Listas\n",
    "\n",
    "Una lista es una secuencia de elementos que puede almacenar datos heterogeneos tales como: float, strings, tuplas, listas y diccionarios. Una lista se escribe como la secuencia de datos a mantener, separados por una coma y delimitada por los paréntesis cuadrados. A diferencia de las cadenas de carácter y las tuplas, las listas son mutables, esto es, se pueden modificar después de definidas.\n",
    "\n",
    "A diferencia de las cadenas de carácter y las tuplas, las listas son mutables, esto es, se pueden modificar después de definidas.\n",
    "\n",
    "Una lista puede entenderse como una colección indexada de objetos. A cada elemento le corresponde una posición. Una lista puede almacenar objetos de diferente tipo en la misma estructura. Es posible también añadir, remover, o cambiar objetos. Esto quiere decir que las listas son mutables."
   ]
  },
  {
   "cell_type": "code",
   "execution_count": null,
   "metadata": {
    "id": "T_SLOXgnULS-",
    "outputId": "c4bd95ba-be67-4c19-f4b4-2f7ea82a46a6"
   },
   "outputs": [
    {
     "name": "stdout",
     "output_type": "stream",
     "text": [
      "[]\n"
     ]
    }
   ],
   "source": [
    "#Así se crea una lista vacía\n",
    "lis = []\n",
    "print(lis)"
   ]
  },
  {
   "cell_type": "code",
   "execution_count": null,
   "metadata": {
    "id": "5MFhBJSAULTM",
    "outputId": "5d20e635-9c97-4997-84cc-90a77e18d937"
   },
   "outputs": [
    {
     "name": "stdout",
     "output_type": "stream",
     "text": [
      "['Este es un elemento']\n"
     ]
    }
   ],
   "source": [
    "#Una lista con un elemento\n",
    "list2 = [\"Este es un elemento\"]\n",
    "print(list2)"
   ]
  },
  {
   "cell_type": "markdown",
   "metadata": {
    "id": "Ehg3wPI4ULTW"
   },
   "source": [
    "Para crear una lista, se almacenan los valores separados por comas:"
   ]
  },
  {
   "cell_type": "code",
   "execution_count": null,
   "metadata": {
    "id": "VFH8vJTfULTY",
    "outputId": "9d75ab4e-0a6b-4755-d5b8-99a29d983472"
   },
   "outputs": [
    {
     "name": "stdout",
     "output_type": "stream",
     "text": [
      "[1, 2, 3, 4.6, 'hola', 'a']\n"
     ]
    }
   ],
   "source": [
    "lista3 = [1, 2, 3, 4.6, 'hola', 'a'] #una lista de 6 elementos\n",
    "print(lista3)"
   ]
  },
  {
   "cell_type": "code",
   "execution_count": null,
   "metadata": {
    "id": "8fknoMp7ULTi",
    "outputId": "daa6cb6c-3627-44b8-fcb0-9d29c82cbd07"
   },
   "outputs": [
    {
     "data": {
      "text/plain": [
       "list"
      ]
     },
     "execution_count": 11,
     "metadata": {
      "tags": []
     },
     "output_type": "execute_result"
    }
   ],
   "source": [
    "type(lista3)"
   ]
  },
  {
   "cell_type": "markdown",
   "metadata": {
    "id": "3qwpt0PvULTq"
   },
   "source": [
    "## Listas anidadas (Listas de listas)\n",
    "\n",
    "Es posible crear listas que tengan listas como elementos (anidadas):"
   ]
  },
  {
   "cell_type": "code",
   "execution_count": null,
   "metadata": {
    "id": "xYT9IzudULTs",
    "outputId": "3705701a-58dd-43b0-ca77-df482f77fdee"
   },
   "outputs": [
    {
     "name": "stdout",
     "output_type": "stream",
     "text": [
      "[[0, 1, 2, 3], ['A', 'B', 'C']]\n",
      "[0, 1, 2, 3]\n",
      "A\n"
     ]
    }
   ],
   "source": [
    "lista1 = [0, 1, 2, 3]\n",
    "lista2 = ['A', 'B', 'C']\n",
    "lista3 = [lista1, lista2]\n",
    "print(lista3)\n",
    "print(lista3[0])\n",
    "print(lista3[1][0])"
   ]
  },
  {
   "cell_type": "markdown",
   "metadata": {
    "id": "iRUjQnSnULT7"
   },
   "source": [
    "## Operador concatenar\n",
    "\n",
    "Concatena dos listas produciendo una nueva."
   ]
  },
  {
   "cell_type": "code",
   "execution_count": null,
   "metadata": {
    "id": "wsLSIvnTULT7",
    "outputId": "5afca3a3-2cab-45e9-a611-652d6a12fd1c"
   },
   "outputs": [
    {
     "name": "stdout",
     "output_type": "stream",
     "text": [
      "['A', 'B', 'C', 'E', 1, 2, 3, 4, 5]\n"
     ]
    }
   ],
   "source": [
    "list1 = ['A', 'B', 'C', 'E']\n",
    "list2 = [1,2,3,4,5]\n",
    "list3 = list1 + list2\n",
    "print(list3)"
   ]
  },
  {
   "cell_type": "markdown",
   "metadata": {
    "id": "0V4zyTo0ULUC"
   },
   "source": [
    "## Operador extender\n",
    "\n",
    "El método `extend` agrega una lista al final de otra lista. "
   ]
  },
  {
   "cell_type": "code",
   "execution_count": null,
   "metadata": {
    "id": "SnOrKzKxULUE",
    "outputId": "b617ea4d-3d8b-429f-faf9-28ebe0a37fbf"
   },
   "outputs": [
    {
     "name": "stdout",
     "output_type": "stream",
     "text": [
      "['Antonio', 'María', 'Mabel', 'Barry', 'John', 'Guttag']\n"
     ]
    }
   ],
   "source": [
    "nombres = ['Antonio', 'María', 'Mabel']\n",
    "otros_nombres = ['Barry', 'John', 'Guttag']\n",
    "nombres.extend(otros_nombres)\n",
    "print(nombres)"
   ]
  },
  {
   "cell_type": "markdown",
   "metadata": {
    "id": "_hZdXzFIULUL"
   },
   "source": [
    "## Operador repetir\n",
    "\n",
    "Crea una tupla con múltiples copias de una lista, tantas como se defina:"
   ]
  },
  {
   "cell_type": "code",
   "execution_count": null,
   "metadata": {
    "id": "rH3AYFiNULUM",
    "outputId": "eb6ea7c1-74d5-4292-e949-1b5608cb4c64"
   },
   "outputs": [
    {
     "name": "stdout",
     "output_type": "stream",
     "text": [
      "[1, 2, 3, 4, 5, 1, 2, 3, 4, 5, 1, 2, 3, 4, 5]\n",
      "['Abc', 'Bcd', 'Abc', 'Bcd']\n"
     ]
    }
   ],
   "source": [
    "list2 = [1,2,3,4,5]\n",
    "list3 = list2*3\n",
    "print(list3)\n",
    "list4 = ['Abc', 'Bcd']\n",
    "list5 = list4*2\n",
    "print(list5)"
   ]
  },
  {
   "cell_type": "markdown",
   "metadata": {
    "id": "8QHV792vULUR"
   },
   "source": [
    "## Operador Comparar\n",
    "\n",
    "Es posible comparar dos tuplas con ==, >=, <, <=, != Se comparan de izquierda a derecha:"
   ]
  },
  {
   "cell_type": "code",
   "execution_count": null,
   "metadata": {
    "id": "rnKRIr8pULUR",
    "outputId": "9e2e142e-2ad6-4f03-f0c4-3d5603068b1e"
   },
   "outputs": [
    {
     "name": "stdout",
     "output_type": "stream",
     "text": [
      "True\n",
      "False\n",
      "True\n"
     ]
    }
   ],
   "source": [
    "print( ['Rojas', 123] < ['Rosas', 123] )\n",
    "print( ['Rosas', 123] == ['rosas', 123] )\n",
    "print( ['Rosas', 123] > ['Rosas', 23] )"
   ]
  },
  {
   "cell_type": "code",
   "execution_count": null,
   "metadata": {
    "id": "x0UatMZCULUY",
    "outputId": "62056387-4f6e-4399-e339-62406e473b75"
   },
   "outputs": [
    {
     "name": "stdout",
     "output_type": "stream",
     "text": [
      "True\n",
      "False\n"
     ]
    }
   ],
   "source": [
    "a = ['Rojas', 123]\n",
    "b = [\"Rojas\", 123]\n",
    "c = [\"Rosas\", 123]\n",
    "\n",
    "print( a == b )\n",
    "print( a == c )\n"
   ]
  },
  {
   "cell_type": "markdown",
   "metadata": {
    "id": "UUXLAAC9ULUe"
   },
   "source": [
    "Se puede usar el operador `is` para determinar si dos tuplas son la misma (referencian al mismo objeto). Para el programa"
   ]
  },
  {
   "cell_type": "code",
   "execution_count": null,
   "metadata": {
    "id": "QPTAFxrUULUe",
    "outputId": "a9559f83-6968-491d-fe41-c368c4367628"
   },
   "outputs": [
    {
     "name": "stdout",
     "output_type": "stream",
     "text": [
      "True\n",
      "False\n",
      "True\n",
      "True\n"
     ]
    }
   ],
   "source": [
    "a = ['Rojas', 123]\n",
    "b = [\"Rojas\", 123]\n",
    "c = a\n",
    "print( a == b )\n",
    "print( a is b )\n",
    "print( a == c )\n",
    "print( a is c )"
   ]
  },
  {
   "cell_type": "markdown",
   "metadata": {
    "id": "IEiTHO9IULUl"
   },
   "source": [
    "## Operador subindice [] (subscript)\n",
    "\n",
    "Para acceder a un valor particular de una tupla se especifica su posición con corchetes []:"
   ]
  },
  {
   "cell_type": "code",
   "execution_count": null,
   "metadata": {
    "id": "ZTvUA9fUULUo",
    "outputId": "c4c47ea1-4345-4be0-979f-8b91b91b5ee2"
   },
   "outputs": [
    {
     "name": "stdout",
     "output_type": "stream",
     "text": [
      "Ironman\n",
      "Hulk\n",
      "Hulk\n",
      "Spiderman\n"
     ]
    }
   ],
   "source": [
    "avengers = [\"Ironman\", \"Spiderman\", \"Ant-man\", \"Hulk\"]\n",
    "print(avengers[0]) \n",
    "print(avengers[3])\n",
    "print(avengers[-1])    \n",
    "print(avengers[-3]) "
   ]
  },
  {
   "cell_type": "markdown",
   "metadata": {
    "id": "MOXfwb24ULUt"
   },
   "source": [
    "## Consultando una lista\n",
    "\n",
    "Es posible determinar si un elemento se encuentra en una lista."
   ]
  },
  {
   "cell_type": "code",
   "execution_count": null,
   "metadata": {
    "id": "kCAUQMedULUu",
    "outputId": "0f0feec8-d85c-4955-e79a-afd3cdb297ed"
   },
   "outputs": [
    {
     "name": "stdout",
     "output_type": "stream",
     "text": [
      "yes\n"
     ]
    }
   ],
   "source": [
    "text = ['cien', 'años', 'de', 'soledad']\n",
    "if 'años' in text:\n",
    "  print('yes')"
   ]
  },
  {
   "cell_type": "markdown",
   "metadata": {
    "id": "7XO7cu7nULUy"
   },
   "source": [
    "Es posible determinar si un elemento no se encuentra en una lista."
   ]
  },
  {
   "cell_type": "code",
   "execution_count": null,
   "metadata": {
    "id": "QbgF-CdrULUz",
    "outputId": "09e07a0b-76b0-4f09-fd3e-43398bfbadb3"
   },
   "outputs": [
    {
     "name": "stdout",
     "output_type": "stream",
     "text": [
      "No esta en la lista\n"
     ]
    }
   ],
   "source": [
    "text = ['cien', 'años', 'de', 'soledad']\n",
    "if 'sien' not in text:\n",
    "    print('No esta en la lista')\n",
    "else:   \n",
    "    print('Esta en la lista')"
   ]
  },
  {
   "cell_type": "markdown",
   "metadata": {
    "id": "T7y9u6ZjULU5"
   },
   "source": [
    "## Iterando una lista \n",
    "\n",
    "Es posible iterar una lista usando el ciclo `for`:"
   ]
  },
  {
   "cell_type": "code",
   "execution_count": null,
   "metadata": {
    "id": "MzAWTynMULU6",
    "outputId": "7df9bdb7-702f-4849-c4ed-e2376a5c49d6"
   },
   "outputs": [
    {
     "name": "stdout",
     "output_type": "stream",
     "text": [
      "hola, amigos, mios, "
     ]
    }
   ],
   "source": [
    "s = [\"hola\", \"amigos\", \"mios\"]\n",
    "for palabra in s:  #para cada palabra de la lista\n",
    "    print(palabra + \",\", end=' ')"
   ]
  },
  {
   "cell_type": "markdown",
   "metadata": {
    "id": "k_V0-F2lULU-"
   },
   "source": [
    "## Creando una lista (comprehension lists)\n",
    "\n",
    "Es posible asignarle una lista a una variable usando la asignación, el ciclo `for` y el concepto de lista."
   ]
  },
  {
   "cell_type": "code",
   "execution_count": null,
   "metadata": {
    "id": "fYgw947VULU_",
    "outputId": "935689d6-4859-4d54-c786-f617e68abc6a"
   },
   "outputs": [
    {
     "name": "stdout",
     "output_type": "stream",
     "text": [
      "[10, 11, 12, 13, 14]\n",
      "[9, 27, 81, 243]\n"
     ]
    }
   ],
   "source": [
    "d = 10\n",
    "desplaza = [d+x for x in range(5)]\n",
    "print(desplaza)\n",
    "potencias = [3 ** x for x in range(2,6)]\n",
    "print(potencias)"
   ]
  },
  {
   "cell_type": "markdown",
   "metadata": {
    "id": "UuUWjgXqULVC"
   },
   "source": [
    "## Asignando múltiples valores desde una lista\n",
    "\n",
    "Es posible asignarle los valores a un grupo de variables usando la asignación y el concepto de lista (desempacando)."
   ]
  },
  {
   "cell_type": "code",
   "execution_count": null,
   "metadata": {
    "id": "9ki-I7nIULVD",
    "outputId": "b71d27ba-ca78-409d-c53e-e7997f98d4aa"
   },
   "outputs": [
    {
     "name": "stdout",
     "output_type": "stream",
     "text": [
      "a= 1\n",
      "b= -2\n",
      "c= 3\n"
     ]
    }
   ],
   "source": [
    "lista = [1, -2, 3]\n",
    "a, b, c = lista\n",
    "print('a=', a)\n",
    "print('b=', b)\n",
    "print('c=', c)"
   ]
  },
  {
   "cell_type": "markdown",
   "metadata": {
    "id": "WuRLYTnTULVI"
   },
   "source": [
    " Es posible asignar los valores de un grupo de variables usando la asignación, el ciclo \\verb|for| y el concepto de lista."
   ]
  },
  {
   "cell_type": "code",
   "execution_count": null,
   "metadata": {
    "id": "3xWEgg7gULVK",
    "outputId": "193187db-50b6-4b57-96c8-0fd45e7c8098"
   },
   "outputs": [
    {
     "name": "stdout",
     "output_type": "stream",
     "text": [
      "var1 = 9 ,var2 = 3 ,var3 = 5\n",
      "var1 = 11 ,var2 = -2 ,var3 = 8\n"
     ]
    }
   ],
   "source": [
    "lista = [11, 9, -2, 3, 8, 5]  \n",
    "var1, var2, var3 = [lista[i] for i in (1, 3, 5)] \n",
    "print(\"var1 =\",var1,\",var2 =\",var2,\",var3 =\",var3)\n",
    "var1, var2, var3 = [lista[i] for i in range(0,6,2)] \n",
    "print(\"var1 =\",var1,\",var2 =\",var2,\",var3 =\",var3)"
   ]
  },
  {
   "cell_type": "markdown",
   "metadata": {
    "id": "POBmfy6OULVP"
   },
   "source": [
    "## Listas y funciones\n",
    "\n",
    "Es posible retornar más de un valor en una función usando el concepto de lista."
   ]
  },
  {
   "cell_type": "code",
   "execution_count": null,
   "metadata": {
    "id": "pnsaEJm-ULVP",
    "outputId": "0a349012-0a8a-42fe-ffe9-cc81f00df771"
   },
   "outputs": [
    {
     "name": "stdout",
     "output_type": "stream",
     "text": [
      "min= 5 max= 13\n",
      "min= -4 max= 12\n"
     ]
    }
   ],
   "source": [
    " def minmax( a, b ):\n",
    "    if a<b:\n",
    "        return [a, b]\n",
    "    else:\n",
    "        return [b,a]\n",
    "x, y = minmax( 5, 13 )\n",
    "print('min=', x, 'max=', y)\n",
    "x = minmax( 12, -4)\n",
    "print('min=', x[0], 'max=', x[1])"
   ]
  },
  {
   "cell_type": "markdown",
   "metadata": {
    "id": "0MUvuLngULVT"
   },
   "source": [
    "## Longitud `len`"
   ]
  },
  {
   "cell_type": "markdown",
   "metadata": {
    "id": "Pi3k80MXULVT"
   },
   "source": [
    "La función `len` determina la dimensión (longitud) de una lista. "
   ]
  },
  {
   "cell_type": "code",
   "execution_count": null,
   "metadata": {
    "id": "kY5X37mQULVU",
    "outputId": "46d500cd-9fb5-42a7-f60f-ebe25e816bcd"
   },
   "outputs": [
    {
     "name": "stdout",
     "output_type": "stream",
     "text": [
      "4\n",
      "2\n",
      "3\n"
     ]
    }
   ],
   "source": [
    "lista = [1,2,3,4]\n",
    "nombre = [\"Minch\", \"Yoda\"]\n",
    "trabajo = [\"Stars\", \"War\", \"Movie\"]\n",
    "print(len(lista))   \n",
    "print(len(nombre))\n",
    "print(len(trabajo))"
   ]
  },
  {
   "cell_type": "markdown",
   "metadata": {
    "id": "0rDIMz0nULVd"
   },
   "source": [
    "## Cambiando elementos"
   ]
  },
  {
   "cell_type": "markdown",
   "metadata": {
    "id": "Ujg1wOOfULVf"
   },
   "source": [
    "Es posible cambiar un elemento en una posición de una lista."
   ]
  },
  {
   "cell_type": "code",
   "execution_count": null,
   "metadata": {
    "id": "NtJbuMZ_ULVg",
    "outputId": "77fdd0e2-2494-4a15-ed04-18f2c196ac11"
   },
   "outputs": [
    {
     "name": "stdout",
     "output_type": "stream",
     "text": [
      "['e', 'l', 'm', 'e', 'j', 'o', 'r']\n",
      "['e', 'l', 'm', 'e', 'l', 'o', 'r']\n",
      "['e', 'l', 'm', 'e', 'l', 'o', 's']\n"
     ]
    }
   ],
   "source": [
    "lista = ['E', 'l', 'm', 'e', 'j', 'o', 'r']\n",
    "lista[0] = 'e'\n",
    "print(lista)\n",
    "lista[4] = 'l'\n",
    "print(lista)\n",
    "lista[-1] = 's'\n",
    "print(lista)"
   ]
  },
  {
   "cell_type": "markdown",
   "metadata": {
    "id": "FDuI6qc9ULVk"
   },
   "source": [
    "## Agregando elementos `append` \n",
    "\n",
    "El método `append` permite agregar elementos al final de una lista."
   ]
  },
  {
   "cell_type": "code",
   "execution_count": null,
   "metadata": {
    "id": "SBLYNGb2ULVl",
    "outputId": "71c3ac8d-f886-4764-b8fa-519bfa8de922"
   },
   "outputs": [
    {
     "name": "stdout",
     "output_type": "stream",
     "text": [
      "['Antonio', 'Johan', 'Monica']\n",
      "['Antonio', 'Johan', 'Monica', 'Maria']\n",
      "['Antonio', 'Johan', 'Monica', 'Maria', 'Mabel']\n"
     ]
    }
   ],
   "source": [
    "nombres = ['Antonio', 'Johan']\n",
    "nombres.append('Monica')\n",
    "print(nombres)\n",
    "nombres.append('Maria')\n",
    "print(nombres)\n",
    "nombres.append('Mabel')\n",
    "print(nombres)"
   ]
  },
  {
   "cell_type": "markdown",
   "metadata": {
    "id": "mrTTdwNbULVq"
   },
   "source": [
    "## Insertando elementos `insert`\n",
    "\n",
    "El método `insert` permite insertar (agregar) elementos en una posición específica de una lista."
   ]
  },
  {
   "cell_type": "code",
   "execution_count": null,
   "metadata": {
    "id": "qhlhTCPHULVr",
    "outputId": "8a2e1fc1-a1a4-4e09-d45d-4f96f64130bd"
   },
   "outputs": [
    {
     "name": "stdout",
     "output_type": "stream",
     "text": [
      "['Guttag', 'Antonio', 'Johan', 'Maria']\n",
      "['Guttag', 'Antonio', 'Peter', 'Johan', 'Maria']\n",
      "['Guttag', 'Antonio', 10, 'Peter', 'Johan', 'Maria']\n"
     ]
    }
   ],
   "source": [
    "nombres = ['Antonio', 'Johan', 'Maria']\n",
    "nombres.insert(0, 'Guttag')\n",
    "print(nombres)\n",
    "nombres.insert(2, 'Peter')\n",
    "print(nombres)\n",
    "nombres.insert(len(nombres)//2, 10)\n",
    "print(nombres)"
   ]
  },
  {
   "cell_type": "markdown",
   "metadata": {
    "id": "p7WsdgavULVv"
   },
   "source": [
    "## Eliminando elementos `remove`\n",
    "\n",
    "El método `remove` permite eliminar la primera aparición (de izquierda a derecha) de un elemento de una lista."
   ]
  },
  {
   "cell_type": "code",
   "execution_count": null,
   "metadata": {
    "id": "apwed5dVULVw",
    "outputId": "0fa57fc7-8d44-4050-9f14-fac0cc7934d6"
   },
   "outputs": [
    {
     "name": "stdout",
     "output_type": "stream",
     "text": [
      "['a', 'e', 'i', 'o', 'u', 'i', 'x']\n",
      "['a', 'e', 'i', 'o', 'u', 'i']\n",
      "['a', 'e', 'o', 'u', 'i']\n"
     ]
    }
   ],
   "source": [
    "lista = ['a', 'e', 'i', 'o', 'u', 'i', 'x']\n",
    "print(lista)\n",
    "lista.remove('x')\n",
    "print(lista)\n",
    "lista.remove('i')\n",
    "print(lista)"
   ]
  },
  {
   "cell_type": "markdown",
   "metadata": {
    "id": "FzEXR6uDULVz"
   },
   "source": [
    "## Sublistas (slice) - operador subscript []\n",
    "\n",
    "La función [] obtiene una porción (sublista) de una lista"
   ]
  },
  {
   "cell_type": "code",
   "execution_count": null,
   "metadata": {
    "id": "14iEuwiVULVz",
    "outputId": "79570f90-17fd-47b1-e141-cb52f2def65a"
   },
   "outputs": [
    {
     "name": "stdout",
     "output_type": "stream",
     "text": [
      "['Spiderman', 'Ant-man']\n",
      "['Hulk', 'Ant-man', 'Spiderman', 'Ironman']\n"
     ]
    }
   ],
   "source": [
    "avengers = [\"Ironman\", \"Spiderman\", \"Ant-man\", \"Hulk\"]\n",
    "print(avengers[1:3])\n",
    "print(avengers[::-1])"
   ]
  },
  {
   "cell_type": "markdown",
   "metadata": {
    "id": "O6wGPU6wULV6"
   },
   "source": [
    "## Contando `count`\n",
    "\n",
    "El método `count` obtiene las veces que un elemento se encuentra en una lista."
   ]
  },
  {
   "cell_type": "code",
   "execution_count": null,
   "metadata": {
    "id": "sS_mP-keULV7",
    "outputId": "124a0679-df78-40a3-828e-0dd245456ac7"
   },
   "outputs": [
    {
     "name": "stdout",
     "output_type": "stream",
     "text": [
      "1\n",
      "3\n",
      "1\n"
     ]
    }
   ],
   "source": [
    "lista = [4, 3, 8, 8, 2, 5, 4, 6, 8, 9]\n",
    "print(lista.count(2))\n",
    "print(lista.count(8))\n",
    "print(lista.count(5))"
   ]
  },
  {
   "cell_type": "markdown",
   "metadata": {
    "id": "EclzDzy8ULV_"
   },
   "source": [
    "## Buscando `index`\n",
    "\n",
    "El método `index` obtiene la primera ocurrencia de un elemento en una lista."
   ]
  },
  {
   "cell_type": "code",
   "execution_count": null,
   "metadata": {
    "id": "1eSvBwiKULV_",
    "outputId": "e3180edb-92bb-4044-b2d3-ac5b13514ff1"
   },
   "outputs": [
    {
     "name": "stdout",
     "output_type": "stream",
     "text": [
      "4\n",
      "2\n",
      "5\n"
     ]
    }
   ],
   "source": [
    "lista = [4, 3, 8, 8, 2, 5, 4, 6, 8, 9]\n",
    "print(lista.index(2))\n",
    "print(lista.index(8))\n",
    "print(lista.index(5))"
   ]
  },
  {
   "cell_type": "markdown",
   "metadata": {
    "id": "F1_kNFBqULWC"
   },
   "source": [
    "## Máximo y mínimo `max, min`\n",
    "\n",
    "El método `max/min` obtiene el maximo/mínimo elemento de una lista."
   ]
  },
  {
   "cell_type": "code",
   "execution_count": null,
   "metadata": {
    "id": "VaCrkCdTULWC",
    "outputId": "236cc250-c7da-46ad-8b29-a1248e755d9e"
   },
   "outputs": [
    {
     "name": "stdout",
     "output_type": "stream",
     "text": [
      "7\n",
      "-1\n"
     ]
    }
   ],
   "source": [
    "lista = [4,5,-1,6,7]\n",
    "print(max(lista))\n",
    "print(min(lista))"
   ]
  },
  {
   "cell_type": "markdown",
   "metadata": {
    "id": "PfHalwSCULWH"
   },
   "source": [
    "## Ordenando `sort`\n",
    "\n",
    "El método `sort` ordena una lista. Se le puede indicar si ascendente o descendentemente, al igual que el criterio (llave) usado para ordenar. Aquí solo se considera el ordenamiento sencillo."
   ]
  },
  {
   "cell_type": "code",
   "execution_count": null,
   "metadata": {
    "id": "ZxK6hB3mULWH",
    "outputId": "c1d9d827-1476-4229-c3b2-0536520241a5"
   },
   "outputs": [
    {
     "name": "stdout",
     "output_type": "stream",
     "text": [
      "[-1, 4, 5, 6, 7]\n",
      "[7, 6, 5, 4, -1]\n"
     ]
    }
   ],
   "source": [
    "lista = [4,5,-1,6,7]\n",
    "lista.sort() #De menor a mayor\n",
    "print(lista)\n",
    "lista.sort(reverse=True) #De mayor a menor\n",
    "print(lista)"
   ]
  },
  {
   "cell_type": "markdown",
   "metadata": {
    "id": "9JuCDl91ULWO"
   },
   "source": [
    "## Convertir a lista `list`\n",
    "\n",
    "El método `list` se usa para crear listas a partir de otros objetos, aquí se usa para convertir una cadena de carácteres y una tupla a listas.\n",
    "\n"
   ]
  },
  {
   "cell_type": "code",
   "execution_count": null,
   "metadata": {
    "id": "FnyWGSpYULWO",
    "outputId": "a5410872-9526-4a2e-e7c6-b29f7d60b35a"
   },
   "outputs": [
    {
     "name": "stdout",
     "output_type": "stream",
     "text": [
      "['D', 'u', 'm', 'b', 'l', 'e', 'd', 'o', 'r', 'e']\n",
      "[1, 2, 3, 4]\n"
     ]
    }
   ],
   "source": [
    "magician = 'Dumbledore'\n",
    "lm = list(magician) \n",
    "print(lm)\n",
    "t = ( 1, 2, 3, 4 )\n",
    "lt = list(t) \n",
    "print(lt)"
   ]
  },
  {
   "cell_type": "markdown",
   "metadata": {
    "id": "EU1Z8d7RULWS"
   },
   "source": [
    "## Ejercicio:\n",
    "\n",
    "Dada una frase averiguar cuantas vocales tiene y mostrarlas. Para esto, se debe usar la siguiente lista ```vowels = ['a', 'e', 'i', 'o', 'u']```\n",
    "\n",
    "<table>\n",
    "    <tr>\n",
    "        <td>Input</td><td>Output</td>\n",
    "    </tr>\n",
    "    <tr>\n",
    "        <td>externocleidomastoideo</td><td>11</td>\n",
    "    </tr>"
   ]
  },
  {
   "cell_type": "code",
   "execution_count": 2,
   "metadata": {},
   "outputs": [
    {
     "name": "stdout",
     "output_type": "stream",
     "text": [
      "externocleidomastoideo\n",
      "11\n"
     ]
    }
   ],
   "source": [
    "x = input()\n",
    "vowels = ['a', 'e', 'i', 'o', 'u']\n",
    "y = 0\n",
    "contador = 0\n",
    "for i in vowels:\n",
    "    y = y + x.count(vowels[contador])\n",
    "    contador += 1\n",
    "print(y)\n",
    "    "
   ]
  },
  {
   "cell_type": "code",
   "execution_count": null,
   "metadata": {
    "id": "CcFqMc0hULWS",
    "outputId": "7a0b4add-9491-4fa2-be36-7a87d65caacc"
   },
   "outputs": [
    {
     "name": "stdout",
     "output_type": "stream",
     "text": [
      "lojavengers\n",
      "o\n",
      "a\n",
      "e\n",
      "e\n",
      "se encontraron: 4 vocales.\n"
     ]
    }
   ],
   "source": []
  },
  {
   "cell_type": "code",
   "execution_count": 55,
   "metadata": {},
   "outputs": [
    {
     "name": "stdout",
     "output_type": "stream",
     "text": [
      "lojavengers\n",
      "a\n",
      "o\n",
      "4\n"
     ]
    }
   ],
   "source": [
    "x = input()\n",
    "vowels = ['a', 'e', 'i', 'o', 'u']\n",
    "y = 0\n",
    "contador = 0\n",
    "for i in vowels:\n",
    "    y = y + x.count(vowels[contador])\n",
    "    if x.count(vowels[contador]) == True:\n",
    "        print(vowels[contador])\n",
    "    contador += 1\n",
    "    \n",
    "\n",
    "print(y)\n",
    "    "
   ]
  },
  {
   "cell_type": "markdown",
   "metadata": {
    "id": "fAqL3r_CULWX"
   },
   "source": [
    "## Remover en una posición `pop`\n",
    "\n",
    "En el caso en el que se requiera eliminar un elemento de una posición específica de la lista. El método pop recibe como parámetro la posición del elemento a remover. Las posiciones en las listas empiezan en cero. Si no se especifican parámetros, se remueve el último elemento de la lista."
   ]
  },
  {
   "cell_type": "code",
   "execution_count": null,
   "metadata": {
    "id": "auFZ6ucjULWY",
    "outputId": "9174f118-52d2-4fcf-e2a6-072c9ac56cc5"
   },
   "outputs": [
    {
     "name": "stdout",
     "output_type": "stream",
     "text": [
      "['Antonio', 'Monica', 'María', 'Mabel']\n",
      "Mabel ha sido eliminada de la lista.\n",
      "['Antonio', 'Monica', 'María']\n"
     ]
    }
   ],
   "source": [
    "nombres = ['Antonio', 'Johan', 'Monica', 'María', 'Mabel']\n",
    "nombres.pop(1) #remueve a Johan\n",
    "print(nombres)\n",
    "nombre_borrado = nombres.pop() # remueve a Mabel\n",
    "print(nombre_borrado + \" ha sido eliminada de la lista.\")\n",
    "print(nombres)"
   ]
  },
  {
   "cell_type": "markdown",
   "metadata": {
    "id": "lrCC2et9ULWb"
   },
   "source": [
    "## Bonus Pedir ayuda a colab sobre un método específico\n",
    "\n",
    "Como pedir ayuda sobre un método específico?"
   ]
  },
  {
   "cell_type": "code",
   "execution_count": null,
   "metadata": {
    "id": "4PTM0FuWULWc",
    "outputId": "41b92578-1ed0-4bcc-977a-263bb9705dee"
   },
   "outputs": [
    {
     "name": "stdout",
     "output_type": "stream",
     "text": [
      "Help on method_descriptor:\n",
      "\n",
      "insert(self, index, object, /)\n",
      "    Insert object before index.\n",
      "\n"
     ]
    }
   ],
   "source": [
    "help(list.insert)"
   ]
  },
  {
   "cell_type": "markdown",
   "metadata": {
    "id": "DoxIETNsULWf"
   },
   "source": [
    "### Ejercicio: \n",
    "\n",
    "Transforme la cadena ```El mejor regalo? El perdón...``` en ```regalo el perdón``` utilizando únicamente los métodos de listas que hemos visto. La nueva cadena debe guardarse en la variable ```nueva_frase```:"
   ]
  },
  {
   "cell_type": "code",
   "execution_count": null,
   "metadata": {
    "id": "VepHK-wwULWf",
    "outputId": "f56f24b1-f403-433c-d441-7f46934d95cb"
   },
   "outputs": [
    {
     "name": "stdout",
     "output_type": "stream",
     "text": [
      "El mejor regalo? El perdón...\n",
      "['E', 'l', ' ', 'm', 'e', 'j', 'o', 'r', ' ', 'r', 'e', 'g', 'a', 'l', 'o', '?', ' ', 'E', 'l', ' ', 'p', 'e', 'r', 'd', 'ó', 'n', '.', '.', '.']\n",
      "['E', 'l', ' ', 'm', 'e', 'j', 'o', 'r', ' ', 'r', 'e', 'g', 'a', 'l', 'o', '?', ' ', 'E', 'l', ' ', 'p', 'e', 'r', 'd', 'ó', 'n', '.', '.', '.']\n",
      "El mejor regalo? El perdón...\n"
     ]
    }
   ],
   "source": [
    "frase = \"El mejor regalo? El perdón...\"\n",
    "list_frase = list(frase)\n",
    "print(frase)\n",
    "print(list_frase) #deben jugar con esta lista\n",
    "\n",
    "#Aquí va la solución...\n",
    "\n",
    "nueva_frase = ''.join(list_frase)\n",
    "print(list_frase)\n",
    "print(nueva_frase)\n"
   ]
  },
  {
   "cell_type": "code",
   "execution_count": null,
   "metadata": {
    "id": "BPxpyHvAULWj",
    "outputId": "b3f686d3-01c5-470d-db20-c36b2fd459a2",
    "scrolled": true
   },
   "outputs": [
    {
     "name": "stdout",
     "output_type": "stream",
     "text": [
      "[1, 1, 2, 2, 2, 2]\n"
     ]
    }
   ],
   "source": []
  },
  {
   "cell_type": "markdown",
   "metadata": {},
   "source": [
    "Se desea desarrollar una competencia de integrales en una Universidad. Para motivar a los estudiantes sin importar el nivel, se desea que inicialmente los problemas sean sencillos. Para esto se ha seleccionado un problema y se le ha preguntado a n personas sus opiniones. Si al menos una persona dijo que el problema era difícil el problema será difícil y se procederá a cambiar dicho ejercicio.\n",
    "\n",
    "Entrada: La primera línea contiene la cantidad n de personas que dieron su opinión sobre un problema dado. La siguiente línea contiene n números que pueden ser 0 o 1. Si es un cero la persona piensa que el problema es fácil, si es un 1, la persona piensa que es un problema difícil: Salida Muestre la palabra FACIL si el problema es fácil de acuerdo con las respuestas dadas o DIFICIL si al menos una persona piensa que el problema es difícil."
   ]
  },
  {
   "cell_type": "code",
   "execution_count": 69,
   "metadata": {},
   "outputs": [
    {
     "name": "stdout",
     "output_type": "stream",
     "text": [
      "3\n",
      "0 0 0\n",
      "FACIL\n"
     ]
    }
   ],
   "source": [
    "n = int(input(\"\"))\n",
    "\n",
    "x = input(\"\")\n",
    "p = x.split()\n",
    "z = p.count(\"0\")\n",
    "y = p.count(\"1\")\n",
    "\n",
    "if int(y) > 0:\n",
    "    print(\"DIFICIL\")\n",
    "else:\n",
    "    print(\"FACIL\")\n",
    "    \n"
   ]
  },
  {
   "cell_type": "markdown",
   "metadata": {
    "id": "GzvGOqdUULWm"
   },
   "source": [
    "## Referencias: \n",
    "\n",
    "Gomez, J, Rodriguez A y Cubides C. La ciencia de Programar. Universidad Nacional de Colombia.\n",
    "\n",
    "Barry, P. (2016). Head First Python: A Brain-Friendly Guide. \" O'Reilly Media, Inc.\".\n",
    "\n",
    "Guttag, John. Introduction to Computation and Programming Using Python: With Application to Understanding Data Second Edition. MIT Press, 2016. ISBN: 9780262529624.\n",
    "\n",
    "\n",
    "https://www.w3schools.com/PYTHON/\n",
    "\n",
    "Rodríguez, A (2020). Curso de Programación en Python. https://github.com/arleserp/cursopython"
   ]
  }
 ],
 "metadata": {
  "colab": {
   "name": "9-Listas Parte I.ipynb",
   "provenance": []
  },
  "kernelspec": {
   "display_name": "Python 3",
   "language": "python",
   "name": "python3"
  },
  "language_info": {
   "codemirror_mode": {
    "name": "ipython",
    "version": 3
   },
   "file_extension": ".py",
   "mimetype": "text/x-python",
   "name": "python",
   "nbconvert_exporter": "python",
   "pygments_lexer": "ipython3",
   "version": "3.8.3"
  }
 },
 "nbformat": 4,
 "nbformat_minor": 1
}
